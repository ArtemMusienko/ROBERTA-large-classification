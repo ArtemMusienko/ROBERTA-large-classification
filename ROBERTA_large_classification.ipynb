{
  "nbformat": 4,
  "nbformat_minor": 0,
  "metadata": {
    "colab": {
      "provenance": [],
      "gpuType": "T4"
    },
    "kernelspec": {
      "name": "python3",
      "display_name": "Python 3"
    },
    "language_info": {
      "name": "python"
    },
    "accelerator": "GPU",
    "widgets": {
      "application/vnd.jupyter.widget-state+json": {
        "state": {},
        "fa2d54403ad74e7885cc4ed44e0360dd": {
          "model_module": "@jupyter-widgets/controls",
          "model_name": "HBoxModel",
          "model_module_version": "1.5.0",
          "state": {
            "_dom_classes": [],
            "_model_module": "@jupyter-widgets/controls",
            "_model_module_version": "1.5.0",
            "_model_name": "HBoxModel",
            "_view_count": null,
            "_view_module": "@jupyter-widgets/controls",
            "_view_module_version": "1.5.0",
            "_view_name": "HBoxView",
            "box_style": "",
            "children": [
              "IPY_MODEL_c405f2e1551547cea5da960d9a7ddd7e",
              "IPY_MODEL_cc35bd6164cc46fd9188fbb7999fcdcb",
              "IPY_MODEL_8d4af184f4e0493683ef4b3f586139c5"
            ],
            "layout": "IPY_MODEL_996acced293341d9ad65a311b1d21d40"
          }
        },
        "c405f2e1551547cea5da960d9a7ddd7e": {
          "model_module": "@jupyter-widgets/controls",
          "model_name": "HTMLModel",
          "model_module_version": "1.5.0",
          "state": {
            "_dom_classes": [],
            "_model_module": "@jupyter-widgets/controls",
            "_model_module_version": "1.5.0",
            "_model_name": "HTMLModel",
            "_view_count": null,
            "_view_module": "@jupyter-widgets/controls",
            "_view_module_version": "1.5.0",
            "_view_name": "HTMLView",
            "description": "",
            "description_tooltip": null,
            "layout": "IPY_MODEL_49b20fe8d7b548cca47c3fd8b28a966c",
            "placeholder": "​",
            "style": "IPY_MODEL_290e54b8d5e0466daaf10fa69f47fa61",
            "value": "README.md: "
          }
        },
        "cc35bd6164cc46fd9188fbb7999fcdcb": {
          "model_module": "@jupyter-widgets/controls",
          "model_name": "FloatProgressModel",
          "model_module_version": "1.5.0",
          "state": {
            "_dom_classes": [],
            "_model_module": "@jupyter-widgets/controls",
            "_model_module_version": "1.5.0",
            "_model_name": "FloatProgressModel",
            "_view_count": null,
            "_view_module": "@jupyter-widgets/controls",
            "_view_module_version": "1.5.0",
            "_view_name": "ProgressView",
            "bar_style": "success",
            "description": "",
            "description_tooltip": null,
            "layout": "IPY_MODEL_2f121721842e4ea18cb48648d84bfdc6",
            "max": 1,
            "min": 0,
            "orientation": "horizontal",
            "style": "IPY_MODEL_24dc5b6ccf2f46649bc2e0dc2f8ee490",
            "value": 1
          }
        },
        "8d4af184f4e0493683ef4b3f586139c5": {
          "model_module": "@jupyter-widgets/controls",
          "model_name": "HTMLModel",
          "model_module_version": "1.5.0",
          "state": {
            "_dom_classes": [],
            "_model_module": "@jupyter-widgets/controls",
            "_model_module_version": "1.5.0",
            "_model_name": "HTMLModel",
            "_view_count": null,
            "_view_module": "@jupyter-widgets/controls",
            "_view_module_version": "1.5.0",
            "_view_name": "HTMLView",
            "description": "",
            "description_tooltip": null,
            "layout": "IPY_MODEL_f7e616978197414ebcc0d8e4b895fd05",
            "placeholder": "​",
            "style": "IPY_MODEL_1455267829aa42a8a312cbff5444e1c3",
            "value": " 1.01k/? [00:00&lt;00:00, 96.0kB/s]"
          }
        },
        "996acced293341d9ad65a311b1d21d40": {
          "model_module": "@jupyter-widgets/base",
          "model_name": "LayoutModel",
          "model_module_version": "1.2.0",
          "state": {
            "_model_module": "@jupyter-widgets/base",
            "_model_module_version": "1.2.0",
            "_model_name": "LayoutModel",
            "_view_count": null,
            "_view_module": "@jupyter-widgets/base",
            "_view_module_version": "1.2.0",
            "_view_name": "LayoutView",
            "align_content": null,
            "align_items": null,
            "align_self": null,
            "border": null,
            "bottom": null,
            "display": null,
            "flex": null,
            "flex_flow": null,
            "grid_area": null,
            "grid_auto_columns": null,
            "grid_auto_flow": null,
            "grid_auto_rows": null,
            "grid_column": null,
            "grid_gap": null,
            "grid_row": null,
            "grid_template_areas": null,
            "grid_template_columns": null,
            "grid_template_rows": null,
            "height": null,
            "justify_content": null,
            "justify_items": null,
            "left": null,
            "margin": null,
            "max_height": null,
            "max_width": null,
            "min_height": null,
            "min_width": null,
            "object_fit": null,
            "object_position": null,
            "order": null,
            "overflow": null,
            "overflow_x": null,
            "overflow_y": null,
            "padding": null,
            "right": null,
            "top": null,
            "visibility": null,
            "width": null
          }
        },
        "49b20fe8d7b548cca47c3fd8b28a966c": {
          "model_module": "@jupyter-widgets/base",
          "model_name": "LayoutModel",
          "model_module_version": "1.2.0",
          "state": {
            "_model_module": "@jupyter-widgets/base",
            "_model_module_version": "1.2.0",
            "_model_name": "LayoutModel",
            "_view_count": null,
            "_view_module": "@jupyter-widgets/base",
            "_view_module_version": "1.2.0",
            "_view_name": "LayoutView",
            "align_content": null,
            "align_items": null,
            "align_self": null,
            "border": null,
            "bottom": null,
            "display": null,
            "flex": null,
            "flex_flow": null,
            "grid_area": null,
            "grid_auto_columns": null,
            "grid_auto_flow": null,
            "grid_auto_rows": null,
            "grid_column": null,
            "grid_gap": null,
            "grid_row": null,
            "grid_template_areas": null,
            "grid_template_columns": null,
            "grid_template_rows": null,
            "height": null,
            "justify_content": null,
            "justify_items": null,
            "left": null,
            "margin": null,
            "max_height": null,
            "max_width": null,
            "min_height": null,
            "min_width": null,
            "object_fit": null,
            "object_position": null,
            "order": null,
            "overflow": null,
            "overflow_x": null,
            "overflow_y": null,
            "padding": null,
            "right": null,
            "top": null,
            "visibility": null,
            "width": null
          }
        },
        "290e54b8d5e0466daaf10fa69f47fa61": {
          "model_module": "@jupyter-widgets/controls",
          "model_name": "DescriptionStyleModel",
          "model_module_version": "1.5.0",
          "state": {
            "_model_module": "@jupyter-widgets/controls",
            "_model_module_version": "1.5.0",
            "_model_name": "DescriptionStyleModel",
            "_view_count": null,
            "_view_module": "@jupyter-widgets/base",
            "_view_module_version": "1.2.0",
            "_view_name": "StyleView",
            "description_width": ""
          }
        },
        "2f121721842e4ea18cb48648d84bfdc6": {
          "model_module": "@jupyter-widgets/base",
          "model_name": "LayoutModel",
          "model_module_version": "1.2.0",
          "state": {
            "_model_module": "@jupyter-widgets/base",
            "_model_module_version": "1.2.0",
            "_model_name": "LayoutModel",
            "_view_count": null,
            "_view_module": "@jupyter-widgets/base",
            "_view_module_version": "1.2.0",
            "_view_name": "LayoutView",
            "align_content": null,
            "align_items": null,
            "align_self": null,
            "border": null,
            "bottom": null,
            "display": null,
            "flex": null,
            "flex_flow": null,
            "grid_area": null,
            "grid_auto_columns": null,
            "grid_auto_flow": null,
            "grid_auto_rows": null,
            "grid_column": null,
            "grid_gap": null,
            "grid_row": null,
            "grid_template_areas": null,
            "grid_template_columns": null,
            "grid_template_rows": null,
            "height": null,
            "justify_content": null,
            "justify_items": null,
            "left": null,
            "margin": null,
            "max_height": null,
            "max_width": null,
            "min_height": null,
            "min_width": null,
            "object_fit": null,
            "object_position": null,
            "order": null,
            "overflow": null,
            "overflow_x": null,
            "overflow_y": null,
            "padding": null,
            "right": null,
            "top": null,
            "visibility": null,
            "width": "20px"
          }
        },
        "24dc5b6ccf2f46649bc2e0dc2f8ee490": {
          "model_module": "@jupyter-widgets/controls",
          "model_name": "ProgressStyleModel",
          "model_module_version": "1.5.0",
          "state": {
            "_model_module": "@jupyter-widgets/controls",
            "_model_module_version": "1.5.0",
            "_model_name": "ProgressStyleModel",
            "_view_count": null,
            "_view_module": "@jupyter-widgets/base",
            "_view_module_version": "1.2.0",
            "_view_name": "StyleView",
            "bar_color": null,
            "description_width": ""
          }
        },
        "f7e616978197414ebcc0d8e4b895fd05": {
          "model_module": "@jupyter-widgets/base",
          "model_name": "LayoutModel",
          "model_module_version": "1.2.0",
          "state": {
            "_model_module": "@jupyter-widgets/base",
            "_model_module_version": "1.2.0",
            "_model_name": "LayoutModel",
            "_view_count": null,
            "_view_module": "@jupyter-widgets/base",
            "_view_module_version": "1.2.0",
            "_view_name": "LayoutView",
            "align_content": null,
            "align_items": null,
            "align_self": null,
            "border": null,
            "bottom": null,
            "display": null,
            "flex": null,
            "flex_flow": null,
            "grid_area": null,
            "grid_auto_columns": null,
            "grid_auto_flow": null,
            "grid_auto_rows": null,
            "grid_column": null,
            "grid_gap": null,
            "grid_row": null,
            "grid_template_areas": null,
            "grid_template_columns": null,
            "grid_template_rows": null,
            "height": null,
            "justify_content": null,
            "justify_items": null,
            "left": null,
            "margin": null,
            "max_height": null,
            "max_width": null,
            "min_height": null,
            "min_width": null,
            "object_fit": null,
            "object_position": null,
            "order": null,
            "overflow": null,
            "overflow_x": null,
            "overflow_y": null,
            "padding": null,
            "right": null,
            "top": null,
            "visibility": null,
            "width": null
          }
        },
        "1455267829aa42a8a312cbff5444e1c3": {
          "model_module": "@jupyter-widgets/controls",
          "model_name": "DescriptionStyleModel",
          "model_module_version": "1.5.0",
          "state": {
            "_model_module": "@jupyter-widgets/controls",
            "_model_module_version": "1.5.0",
            "_model_name": "DescriptionStyleModel",
            "_view_count": null,
            "_view_module": "@jupyter-widgets/base",
            "_view_module_version": "1.2.0",
            "_view_name": "StyleView",
            "description_width": ""
          }
        },
        "a5b618eb02d8445c8464ece8f297ca18": {
          "model_module": "@jupyter-widgets/controls",
          "model_name": "HBoxModel",
          "model_module_version": "1.5.0",
          "state": {
            "_dom_classes": [],
            "_model_module": "@jupyter-widgets/controls",
            "_model_module_version": "1.5.0",
            "_model_name": "HBoxModel",
            "_view_count": null,
            "_view_module": "@jupyter-widgets/controls",
            "_view_module_version": "1.5.0",
            "_view_name": "HBoxView",
            "box_style": "",
            "children": [
              "IPY_MODEL_45e0877286cf44d6a64337e90793bc80",
              "IPY_MODEL_ed55da6022c54db9883c345a6282c85f",
              "IPY_MODEL_4618da1c29c44789a846502a2e394e29"
            ],
            "layout": "IPY_MODEL_9c598c7c150d4c5285d10fef07b1283d"
          }
        },
        "45e0877286cf44d6a64337e90793bc80": {
          "model_module": "@jupyter-widgets/controls",
          "model_name": "HTMLModel",
          "model_module_version": "1.5.0",
          "state": {
            "_dom_classes": [],
            "_model_module": "@jupyter-widgets/controls",
            "_model_module_version": "1.5.0",
            "_model_name": "HTMLModel",
            "_view_count": null,
            "_view_module": "@jupyter-widgets/controls",
            "_view_module_version": "1.5.0",
            "_view_name": "HTMLView",
            "description": "",
            "description_tooltip": null,
            "layout": "IPY_MODEL_a76d84051d98477a88e73df5e46e6c55",
            "placeholder": "​",
            "style": "IPY_MODEL_ec824661b5954eccbc384f160e8a6ec5",
            "value": "data/train-00000-of-00001.parquet: 100%"
          }
        },
        "ed55da6022c54db9883c345a6282c85f": {
          "model_module": "@jupyter-widgets/controls",
          "model_name": "FloatProgressModel",
          "model_module_version": "1.5.0",
          "state": {
            "_dom_classes": [],
            "_model_module": "@jupyter-widgets/controls",
            "_model_module_version": "1.5.0",
            "_model_name": "FloatProgressModel",
            "_view_count": null,
            "_view_module": "@jupyter-widgets/controls",
            "_view_module_version": "1.5.0",
            "_view_name": "ProgressView",
            "bar_style": "success",
            "description": "",
            "description_tooltip": null,
            "layout": "IPY_MODEL_a29c0406591f44bc897b2fba79c406de",
            "max": 69059656,
            "min": 0,
            "orientation": "horizontal",
            "style": "IPY_MODEL_1c59aa05d064494195409b43d6538f0c",
            "value": 69059656
          }
        },
        "4618da1c29c44789a846502a2e394e29": {
          "model_module": "@jupyter-widgets/controls",
          "model_name": "HTMLModel",
          "model_module_version": "1.5.0",
          "state": {
            "_dom_classes": [],
            "_model_module": "@jupyter-widgets/controls",
            "_model_module_version": "1.5.0",
            "_model_name": "HTMLModel",
            "_view_count": null,
            "_view_module": "@jupyter-widgets/controls",
            "_view_module_version": "1.5.0",
            "_view_name": "HTMLView",
            "description": "",
            "description_tooltip": null,
            "layout": "IPY_MODEL_7a1fd4d70e854b83bb0875514b4d3ad3",
            "placeholder": "​",
            "style": "IPY_MODEL_2873f8bd946d4da1939872d9bbbe1daf",
            "value": " 69.1M/69.1M [00:01&lt;00:00, 56.0MB/s]"
          }
        },
        "9c598c7c150d4c5285d10fef07b1283d": {
          "model_module": "@jupyter-widgets/base",
          "model_name": "LayoutModel",
          "model_module_version": "1.2.0",
          "state": {
            "_model_module": "@jupyter-widgets/base",
            "_model_module_version": "1.2.0",
            "_model_name": "LayoutModel",
            "_view_count": null,
            "_view_module": "@jupyter-widgets/base",
            "_view_module_version": "1.2.0",
            "_view_name": "LayoutView",
            "align_content": null,
            "align_items": null,
            "align_self": null,
            "border": null,
            "bottom": null,
            "display": null,
            "flex": null,
            "flex_flow": null,
            "grid_area": null,
            "grid_auto_columns": null,
            "grid_auto_flow": null,
            "grid_auto_rows": null,
            "grid_column": null,
            "grid_gap": null,
            "grid_row": null,
            "grid_template_areas": null,
            "grid_template_columns": null,
            "grid_template_rows": null,
            "height": null,
            "justify_content": null,
            "justify_items": null,
            "left": null,
            "margin": null,
            "max_height": null,
            "max_width": null,
            "min_height": null,
            "min_width": null,
            "object_fit": null,
            "object_position": null,
            "order": null,
            "overflow": null,
            "overflow_x": null,
            "overflow_y": null,
            "padding": null,
            "right": null,
            "top": null,
            "visibility": null,
            "width": null
          }
        },
        "a76d84051d98477a88e73df5e46e6c55": {
          "model_module": "@jupyter-widgets/base",
          "model_name": "LayoutModel",
          "model_module_version": "1.2.0",
          "state": {
            "_model_module": "@jupyter-widgets/base",
            "_model_module_version": "1.2.0",
            "_model_name": "LayoutModel",
            "_view_count": null,
            "_view_module": "@jupyter-widgets/base",
            "_view_module_version": "1.2.0",
            "_view_name": "LayoutView",
            "align_content": null,
            "align_items": null,
            "align_self": null,
            "border": null,
            "bottom": null,
            "display": null,
            "flex": null,
            "flex_flow": null,
            "grid_area": null,
            "grid_auto_columns": null,
            "grid_auto_flow": null,
            "grid_auto_rows": null,
            "grid_column": null,
            "grid_gap": null,
            "grid_row": null,
            "grid_template_areas": null,
            "grid_template_columns": null,
            "grid_template_rows": null,
            "height": null,
            "justify_content": null,
            "justify_items": null,
            "left": null,
            "margin": null,
            "max_height": null,
            "max_width": null,
            "min_height": null,
            "min_width": null,
            "object_fit": null,
            "object_position": null,
            "order": null,
            "overflow": null,
            "overflow_x": null,
            "overflow_y": null,
            "padding": null,
            "right": null,
            "top": null,
            "visibility": null,
            "width": null
          }
        },
        "ec824661b5954eccbc384f160e8a6ec5": {
          "model_module": "@jupyter-widgets/controls",
          "model_name": "DescriptionStyleModel",
          "model_module_version": "1.5.0",
          "state": {
            "_model_module": "@jupyter-widgets/controls",
            "_model_module_version": "1.5.0",
            "_model_name": "DescriptionStyleModel",
            "_view_count": null,
            "_view_module": "@jupyter-widgets/base",
            "_view_module_version": "1.2.0",
            "_view_name": "StyleView",
            "description_width": ""
          }
        },
        "a29c0406591f44bc897b2fba79c406de": {
          "model_module": "@jupyter-widgets/base",
          "model_name": "LayoutModel",
          "model_module_version": "1.2.0",
          "state": {
            "_model_module": "@jupyter-widgets/base",
            "_model_module_version": "1.2.0",
            "_model_name": "LayoutModel",
            "_view_count": null,
            "_view_module": "@jupyter-widgets/base",
            "_view_module_version": "1.2.0",
            "_view_name": "LayoutView",
            "align_content": null,
            "align_items": null,
            "align_self": null,
            "border": null,
            "bottom": null,
            "display": null,
            "flex": null,
            "flex_flow": null,
            "grid_area": null,
            "grid_auto_columns": null,
            "grid_auto_flow": null,
            "grid_auto_rows": null,
            "grid_column": null,
            "grid_gap": null,
            "grid_row": null,
            "grid_template_areas": null,
            "grid_template_columns": null,
            "grid_template_rows": null,
            "height": null,
            "justify_content": null,
            "justify_items": null,
            "left": null,
            "margin": null,
            "max_height": null,
            "max_width": null,
            "min_height": null,
            "min_width": null,
            "object_fit": null,
            "object_position": null,
            "order": null,
            "overflow": null,
            "overflow_x": null,
            "overflow_y": null,
            "padding": null,
            "right": null,
            "top": null,
            "visibility": null,
            "width": null
          }
        },
        "1c59aa05d064494195409b43d6538f0c": {
          "model_module": "@jupyter-widgets/controls",
          "model_name": "ProgressStyleModel",
          "model_module_version": "1.5.0",
          "state": {
            "_model_module": "@jupyter-widgets/controls",
            "_model_module_version": "1.5.0",
            "_model_name": "ProgressStyleModel",
            "_view_count": null,
            "_view_module": "@jupyter-widgets/base",
            "_view_module_version": "1.2.0",
            "_view_name": "StyleView",
            "bar_color": null,
            "description_width": ""
          }
        },
        "7a1fd4d70e854b83bb0875514b4d3ad3": {
          "model_module": "@jupyter-widgets/base",
          "model_name": "LayoutModel",
          "model_module_version": "1.2.0",
          "state": {
            "_model_module": "@jupyter-widgets/base",
            "_model_module_version": "1.2.0",
            "_model_name": "LayoutModel",
            "_view_count": null,
            "_view_module": "@jupyter-widgets/base",
            "_view_module_version": "1.2.0",
            "_view_name": "LayoutView",
            "align_content": null,
            "align_items": null,
            "align_self": null,
            "border": null,
            "bottom": null,
            "display": null,
            "flex": null,
            "flex_flow": null,
            "grid_area": null,
            "grid_auto_columns": null,
            "grid_auto_flow": null,
            "grid_auto_rows": null,
            "grid_column": null,
            "grid_gap": null,
            "grid_row": null,
            "grid_template_areas": null,
            "grid_template_columns": null,
            "grid_template_rows": null,
            "height": null,
            "justify_content": null,
            "justify_items": null,
            "left": null,
            "margin": null,
            "max_height": null,
            "max_width": null,
            "min_height": null,
            "min_width": null,
            "object_fit": null,
            "object_position": null,
            "order": null,
            "overflow": null,
            "overflow_x": null,
            "overflow_y": null,
            "padding": null,
            "right": null,
            "top": null,
            "visibility": null,
            "width": null
          }
        },
        "2873f8bd946d4da1939872d9bbbe1daf": {
          "model_module": "@jupyter-widgets/controls",
          "model_name": "DescriptionStyleModel",
          "model_module_version": "1.5.0",
          "state": {
            "_model_module": "@jupyter-widgets/controls",
            "_model_module_version": "1.5.0",
            "_model_name": "DescriptionStyleModel",
            "_view_count": null,
            "_view_module": "@jupyter-widgets/base",
            "_view_module_version": "1.2.0",
            "_view_name": "StyleView",
            "description_width": ""
          }
        },
        "aac925b0a9a64250aea3bce7032f6e63": {
          "model_module": "@jupyter-widgets/controls",
          "model_name": "HBoxModel",
          "model_module_version": "1.5.0",
          "state": {
            "_dom_classes": [],
            "_model_module": "@jupyter-widgets/controls",
            "_model_module_version": "1.5.0",
            "_model_name": "HBoxModel",
            "_view_count": null,
            "_view_module": "@jupyter-widgets/controls",
            "_view_module_version": "1.5.0",
            "_view_name": "HBoxView",
            "box_style": "",
            "children": [
              "IPY_MODEL_3b6c49469658440681a9530e96e691b0",
              "IPY_MODEL_987c3f164edb407ea53711f332582c28",
              "IPY_MODEL_75f1f847be134dbfa99b1b8364aa9201"
            ],
            "layout": "IPY_MODEL_f8a884e745b6497fbfdb5074b5810429"
          }
        },
        "3b6c49469658440681a9530e96e691b0": {
          "model_module": "@jupyter-widgets/controls",
          "model_name": "HTMLModel",
          "model_module_version": "1.5.0",
          "state": {
            "_dom_classes": [],
            "_model_module": "@jupyter-widgets/controls",
            "_model_module_version": "1.5.0",
            "_model_name": "HTMLModel",
            "_view_count": null,
            "_view_module": "@jupyter-widgets/controls",
            "_view_module_version": "1.5.0",
            "_view_name": "HTMLView",
            "description": "",
            "description_tooltip": null,
            "layout": "IPY_MODEL_89371e62c92844c3852589c7eceb781f",
            "placeholder": "​",
            "style": "IPY_MODEL_55a2305ff7db4c5ca3fd5e2dfe0116c3",
            "value": "data/test-00000-of-00001.parquet: 100%"
          }
        },
        "987c3f164edb407ea53711f332582c28": {
          "model_module": "@jupyter-widgets/controls",
          "model_name": "FloatProgressModel",
          "model_module_version": "1.5.0",
          "state": {
            "_dom_classes": [],
            "_model_module": "@jupyter-widgets/controls",
            "_model_module_version": "1.5.0",
            "_model_name": "FloatProgressModel",
            "_view_count": null,
            "_view_module": "@jupyter-widgets/controls",
            "_view_module_version": "1.5.0",
            "_view_name": "ProgressView",
            "bar_style": "success",
            "description": "",
            "description_tooltip": null,
            "layout": "IPY_MODEL_fd65f9f6174646cbab6f6dafaba4da92",
            "max": 17262007,
            "min": 0,
            "orientation": "horizontal",
            "style": "IPY_MODEL_f7c5224239ca4d3e891b8256950dc15b",
            "value": 17262007
          }
        },
        "75f1f847be134dbfa99b1b8364aa9201": {
          "model_module": "@jupyter-widgets/controls",
          "model_name": "HTMLModel",
          "model_module_version": "1.5.0",
          "state": {
            "_dom_classes": [],
            "_model_module": "@jupyter-widgets/controls",
            "_model_module_version": "1.5.0",
            "_model_name": "HTMLModel",
            "_view_count": null,
            "_view_module": "@jupyter-widgets/controls",
            "_view_module_version": "1.5.0",
            "_view_name": "HTMLView",
            "description": "",
            "description_tooltip": null,
            "layout": "IPY_MODEL_6e8f19787c32494c9684d91fe20cea2d",
            "placeholder": "​",
            "style": "IPY_MODEL_ba15b5ded7df4b3ca6724a981aa916e5",
            "value": " 17.3M/17.3M [00:00&lt;00:00, 35.2MB/s]"
          }
        },
        "f8a884e745b6497fbfdb5074b5810429": {
          "model_module": "@jupyter-widgets/base",
          "model_name": "LayoutModel",
          "model_module_version": "1.2.0",
          "state": {
            "_model_module": "@jupyter-widgets/base",
            "_model_module_version": "1.2.0",
            "_model_name": "LayoutModel",
            "_view_count": null,
            "_view_module": "@jupyter-widgets/base",
            "_view_module_version": "1.2.0",
            "_view_name": "LayoutView",
            "align_content": null,
            "align_items": null,
            "align_self": null,
            "border": null,
            "bottom": null,
            "display": null,
            "flex": null,
            "flex_flow": null,
            "grid_area": null,
            "grid_auto_columns": null,
            "grid_auto_flow": null,
            "grid_auto_rows": null,
            "grid_column": null,
            "grid_gap": null,
            "grid_row": null,
            "grid_template_areas": null,
            "grid_template_columns": null,
            "grid_template_rows": null,
            "height": null,
            "justify_content": null,
            "justify_items": null,
            "left": null,
            "margin": null,
            "max_height": null,
            "max_width": null,
            "min_height": null,
            "min_width": null,
            "object_fit": null,
            "object_position": null,
            "order": null,
            "overflow": null,
            "overflow_x": null,
            "overflow_y": null,
            "padding": null,
            "right": null,
            "top": null,
            "visibility": null,
            "width": null
          }
        },
        "89371e62c92844c3852589c7eceb781f": {
          "model_module": "@jupyter-widgets/base",
          "model_name": "LayoutModel",
          "model_module_version": "1.2.0",
          "state": {
            "_model_module": "@jupyter-widgets/base",
            "_model_module_version": "1.2.0",
            "_model_name": "LayoutModel",
            "_view_count": null,
            "_view_module": "@jupyter-widgets/base",
            "_view_module_version": "1.2.0",
            "_view_name": "LayoutView",
            "align_content": null,
            "align_items": null,
            "align_self": null,
            "border": null,
            "bottom": null,
            "display": null,
            "flex": null,
            "flex_flow": null,
            "grid_area": null,
            "grid_auto_columns": null,
            "grid_auto_flow": null,
            "grid_auto_rows": null,
            "grid_column": null,
            "grid_gap": null,
            "grid_row": null,
            "grid_template_areas": null,
            "grid_template_columns": null,
            "grid_template_rows": null,
            "height": null,
            "justify_content": null,
            "justify_items": null,
            "left": null,
            "margin": null,
            "max_height": null,
            "max_width": null,
            "min_height": null,
            "min_width": null,
            "object_fit": null,
            "object_position": null,
            "order": null,
            "overflow": null,
            "overflow_x": null,
            "overflow_y": null,
            "padding": null,
            "right": null,
            "top": null,
            "visibility": null,
            "width": null
          }
        },
        "55a2305ff7db4c5ca3fd5e2dfe0116c3": {
          "model_module": "@jupyter-widgets/controls",
          "model_name": "DescriptionStyleModel",
          "model_module_version": "1.5.0",
          "state": {
            "_model_module": "@jupyter-widgets/controls",
            "_model_module_version": "1.5.0",
            "_model_name": "DescriptionStyleModel",
            "_view_count": null,
            "_view_module": "@jupyter-widgets/base",
            "_view_module_version": "1.2.0",
            "_view_name": "StyleView",
            "description_width": ""
          }
        },
        "fd65f9f6174646cbab6f6dafaba4da92": {
          "model_module": "@jupyter-widgets/base",
          "model_name": "LayoutModel",
          "model_module_version": "1.2.0",
          "state": {
            "_model_module": "@jupyter-widgets/base",
            "_model_module_version": "1.2.0",
            "_model_name": "LayoutModel",
            "_view_count": null,
            "_view_module": "@jupyter-widgets/base",
            "_view_module_version": "1.2.0",
            "_view_name": "LayoutView",
            "align_content": null,
            "align_items": null,
            "align_self": null,
            "border": null,
            "bottom": null,
            "display": null,
            "flex": null,
            "flex_flow": null,
            "grid_area": null,
            "grid_auto_columns": null,
            "grid_auto_flow": null,
            "grid_auto_rows": null,
            "grid_column": null,
            "grid_gap": null,
            "grid_row": null,
            "grid_template_areas": null,
            "grid_template_columns": null,
            "grid_template_rows": null,
            "height": null,
            "justify_content": null,
            "justify_items": null,
            "left": null,
            "margin": null,
            "max_height": null,
            "max_width": null,
            "min_height": null,
            "min_width": null,
            "object_fit": null,
            "object_position": null,
            "order": null,
            "overflow": null,
            "overflow_x": null,
            "overflow_y": null,
            "padding": null,
            "right": null,
            "top": null,
            "visibility": null,
            "width": null
          }
        },
        "f7c5224239ca4d3e891b8256950dc15b": {
          "model_module": "@jupyter-widgets/controls",
          "model_name": "ProgressStyleModel",
          "model_module_version": "1.5.0",
          "state": {
            "_model_module": "@jupyter-widgets/controls",
            "_model_module_version": "1.5.0",
            "_model_name": "ProgressStyleModel",
            "_view_count": null,
            "_view_module": "@jupyter-widgets/base",
            "_view_module_version": "1.2.0",
            "_view_name": "StyleView",
            "bar_color": null,
            "description_width": ""
          }
        },
        "6e8f19787c32494c9684d91fe20cea2d": {
          "model_module": "@jupyter-widgets/base",
          "model_name": "LayoutModel",
          "model_module_version": "1.2.0",
          "state": {
            "_model_module": "@jupyter-widgets/base",
            "_model_module_version": "1.2.0",
            "_model_name": "LayoutModel",
            "_view_count": null,
            "_view_module": "@jupyter-widgets/base",
            "_view_module_version": "1.2.0",
            "_view_name": "LayoutView",
            "align_content": null,
            "align_items": null,
            "align_self": null,
            "border": null,
            "bottom": null,
            "display": null,
            "flex": null,
            "flex_flow": null,
            "grid_area": null,
            "grid_auto_columns": null,
            "grid_auto_flow": null,
            "grid_auto_rows": null,
            "grid_column": null,
            "grid_gap": null,
            "grid_row": null,
            "grid_template_areas": null,
            "grid_template_columns": null,
            "grid_template_rows": null,
            "height": null,
            "justify_content": null,
            "justify_items": null,
            "left": null,
            "margin": null,
            "max_height": null,
            "max_width": null,
            "min_height": null,
            "min_width": null,
            "object_fit": null,
            "object_position": null,
            "order": null,
            "overflow": null,
            "overflow_x": null,
            "overflow_y": null,
            "padding": null,
            "right": null,
            "top": null,
            "visibility": null,
            "width": null
          }
        },
        "ba15b5ded7df4b3ca6724a981aa916e5": {
          "model_module": "@jupyter-widgets/controls",
          "model_name": "DescriptionStyleModel",
          "model_module_version": "1.5.0",
          "state": {
            "_model_module": "@jupyter-widgets/controls",
            "_model_module_version": "1.5.0",
            "_model_name": "DescriptionStyleModel",
            "_view_count": null,
            "_view_module": "@jupyter-widgets/base",
            "_view_module_version": "1.2.0",
            "_view_name": "StyleView",
            "description_width": ""
          }
        },
        "81b9df54b4b54b3fbedb05503e4757a5": {
          "model_module": "@jupyter-widgets/controls",
          "model_name": "HBoxModel",
          "model_module_version": "1.5.0",
          "state": {
            "_dom_classes": [],
            "_model_module": "@jupyter-widgets/controls",
            "_model_module_version": "1.5.0",
            "_model_name": "HBoxModel",
            "_view_count": null,
            "_view_module": "@jupyter-widgets/controls",
            "_view_module_version": "1.5.0",
            "_view_name": "HBoxView",
            "box_style": "",
            "children": [
              "IPY_MODEL_ba90788719254199bba59148b33ce1c3",
              "IPY_MODEL_dd1d2f82de374cc6a9e57e311ab5e9d1",
              "IPY_MODEL_0c9b58f992f048219ba0ce5c5c3fd2a9"
            ],
            "layout": "IPY_MODEL_bddde8b756374bc5af290b4bf8bca0eb"
          }
        },
        "ba90788719254199bba59148b33ce1c3": {
          "model_module": "@jupyter-widgets/controls",
          "model_name": "HTMLModel",
          "model_module_version": "1.5.0",
          "state": {
            "_dom_classes": [],
            "_model_module": "@jupyter-widgets/controls",
            "_model_module_version": "1.5.0",
            "_model_name": "HTMLModel",
            "_view_count": null,
            "_view_module": "@jupyter-widgets/controls",
            "_view_module_version": "1.5.0",
            "_view_name": "HTMLView",
            "description": "",
            "description_tooltip": null,
            "layout": "IPY_MODEL_95eb1a703ec543699ea404ca74f8b7c1",
            "placeholder": "​",
            "style": "IPY_MODEL_0eaeeab9930045239052c3a2b2db0e2d",
            "value": "Generating train split: 100%"
          }
        },
        "dd1d2f82de374cc6a9e57e311ab5e9d1": {
          "model_module": "@jupyter-widgets/controls",
          "model_name": "FloatProgressModel",
          "model_module_version": "1.5.0",
          "state": {
            "_dom_classes": [],
            "_model_module": "@jupyter-widgets/controls",
            "_model_module_version": "1.5.0",
            "_model_name": "FloatProgressModel",
            "_view_count": null,
            "_view_module": "@jupyter-widgets/controls",
            "_view_module_version": "1.5.0",
            "_view_name": "ProgressView",
            "bar_style": "success",
            "description": "",
            "description_tooltip": null,
            "layout": "IPY_MODEL_e2f4a3153e6245f588d0280c3c8895f4",
            "max": 57530,
            "min": 0,
            "orientation": "horizontal",
            "style": "IPY_MODEL_ff3ee808ca874982bfe3892337a0b6ab",
            "value": 57530
          }
        },
        "0c9b58f992f048219ba0ce5c5c3fd2a9": {
          "model_module": "@jupyter-widgets/controls",
          "model_name": "HTMLModel",
          "model_module_version": "1.5.0",
          "state": {
            "_dom_classes": [],
            "_model_module": "@jupyter-widgets/controls",
            "_model_module_version": "1.5.0",
            "_model_name": "HTMLModel",
            "_view_count": null,
            "_view_module": "@jupyter-widgets/controls",
            "_view_module_version": "1.5.0",
            "_view_name": "HTMLView",
            "description": "",
            "description_tooltip": null,
            "layout": "IPY_MODEL_8eab23ce2779470fbf1f334411b9881b",
            "placeholder": "​",
            "style": "IPY_MODEL_868476ebb8dd44daa5a4942e812ee6f8",
            "value": " 57530/57530 [00:01&lt;00:00, 56729.92 examples/s]"
          }
        },
        "bddde8b756374bc5af290b4bf8bca0eb": {
          "model_module": "@jupyter-widgets/base",
          "model_name": "LayoutModel",
          "model_module_version": "1.2.0",
          "state": {
            "_model_module": "@jupyter-widgets/base",
            "_model_module_version": "1.2.0",
            "_model_name": "LayoutModel",
            "_view_count": null,
            "_view_module": "@jupyter-widgets/base",
            "_view_module_version": "1.2.0",
            "_view_name": "LayoutView",
            "align_content": null,
            "align_items": null,
            "align_self": null,
            "border": null,
            "bottom": null,
            "display": null,
            "flex": null,
            "flex_flow": null,
            "grid_area": null,
            "grid_auto_columns": null,
            "grid_auto_flow": null,
            "grid_auto_rows": null,
            "grid_column": null,
            "grid_gap": null,
            "grid_row": null,
            "grid_template_areas": null,
            "grid_template_columns": null,
            "grid_template_rows": null,
            "height": null,
            "justify_content": null,
            "justify_items": null,
            "left": null,
            "margin": null,
            "max_height": null,
            "max_width": null,
            "min_height": null,
            "min_width": null,
            "object_fit": null,
            "object_position": null,
            "order": null,
            "overflow": null,
            "overflow_x": null,
            "overflow_y": null,
            "padding": null,
            "right": null,
            "top": null,
            "visibility": null,
            "width": null
          }
        },
        "95eb1a703ec543699ea404ca74f8b7c1": {
          "model_module": "@jupyter-widgets/base",
          "model_name": "LayoutModel",
          "model_module_version": "1.2.0",
          "state": {
            "_model_module": "@jupyter-widgets/base",
            "_model_module_version": "1.2.0",
            "_model_name": "LayoutModel",
            "_view_count": null,
            "_view_module": "@jupyter-widgets/base",
            "_view_module_version": "1.2.0",
            "_view_name": "LayoutView",
            "align_content": null,
            "align_items": null,
            "align_self": null,
            "border": null,
            "bottom": null,
            "display": null,
            "flex": null,
            "flex_flow": null,
            "grid_area": null,
            "grid_auto_columns": null,
            "grid_auto_flow": null,
            "grid_auto_rows": null,
            "grid_column": null,
            "grid_gap": null,
            "grid_row": null,
            "grid_template_areas": null,
            "grid_template_columns": null,
            "grid_template_rows": null,
            "height": null,
            "justify_content": null,
            "justify_items": null,
            "left": null,
            "margin": null,
            "max_height": null,
            "max_width": null,
            "min_height": null,
            "min_width": null,
            "object_fit": null,
            "object_position": null,
            "order": null,
            "overflow": null,
            "overflow_x": null,
            "overflow_y": null,
            "padding": null,
            "right": null,
            "top": null,
            "visibility": null,
            "width": null
          }
        },
        "0eaeeab9930045239052c3a2b2db0e2d": {
          "model_module": "@jupyter-widgets/controls",
          "model_name": "DescriptionStyleModel",
          "model_module_version": "1.5.0",
          "state": {
            "_model_module": "@jupyter-widgets/controls",
            "_model_module_version": "1.5.0",
            "_model_name": "DescriptionStyleModel",
            "_view_count": null,
            "_view_module": "@jupyter-widgets/base",
            "_view_module_version": "1.2.0",
            "_view_name": "StyleView",
            "description_width": ""
          }
        },
        "e2f4a3153e6245f588d0280c3c8895f4": {
          "model_module": "@jupyter-widgets/base",
          "model_name": "LayoutModel",
          "model_module_version": "1.2.0",
          "state": {
            "_model_module": "@jupyter-widgets/base",
            "_model_module_version": "1.2.0",
            "_model_name": "LayoutModel",
            "_view_count": null,
            "_view_module": "@jupyter-widgets/base",
            "_view_module_version": "1.2.0",
            "_view_name": "LayoutView",
            "align_content": null,
            "align_items": null,
            "align_self": null,
            "border": null,
            "bottom": null,
            "display": null,
            "flex": null,
            "flex_flow": null,
            "grid_area": null,
            "grid_auto_columns": null,
            "grid_auto_flow": null,
            "grid_auto_rows": null,
            "grid_column": null,
            "grid_gap": null,
            "grid_row": null,
            "grid_template_areas": null,
            "grid_template_columns": null,
            "grid_template_rows": null,
            "height": null,
            "justify_content": null,
            "justify_items": null,
            "left": null,
            "margin": null,
            "max_height": null,
            "max_width": null,
            "min_height": null,
            "min_width": null,
            "object_fit": null,
            "object_position": null,
            "order": null,
            "overflow": null,
            "overflow_x": null,
            "overflow_y": null,
            "padding": null,
            "right": null,
            "top": null,
            "visibility": null,
            "width": null
          }
        },
        "ff3ee808ca874982bfe3892337a0b6ab": {
          "model_module": "@jupyter-widgets/controls",
          "model_name": "ProgressStyleModel",
          "model_module_version": "1.5.0",
          "state": {
            "_model_module": "@jupyter-widgets/controls",
            "_model_module_version": "1.5.0",
            "_model_name": "ProgressStyleModel",
            "_view_count": null,
            "_view_module": "@jupyter-widgets/base",
            "_view_module_version": "1.2.0",
            "_view_name": "StyleView",
            "bar_color": null,
            "description_width": ""
          }
        },
        "8eab23ce2779470fbf1f334411b9881b": {
          "model_module": "@jupyter-widgets/base",
          "model_name": "LayoutModel",
          "model_module_version": "1.2.0",
          "state": {
            "_model_module": "@jupyter-widgets/base",
            "_model_module_version": "1.2.0",
            "_model_name": "LayoutModel",
            "_view_count": null,
            "_view_module": "@jupyter-widgets/base",
            "_view_module_version": "1.2.0",
            "_view_name": "LayoutView",
            "align_content": null,
            "align_items": null,
            "align_self": null,
            "border": null,
            "bottom": null,
            "display": null,
            "flex": null,
            "flex_flow": null,
            "grid_area": null,
            "grid_auto_columns": null,
            "grid_auto_flow": null,
            "grid_auto_rows": null,
            "grid_column": null,
            "grid_gap": null,
            "grid_row": null,
            "grid_template_areas": null,
            "grid_template_columns": null,
            "grid_template_rows": null,
            "height": null,
            "justify_content": null,
            "justify_items": null,
            "left": null,
            "margin": null,
            "max_height": null,
            "max_width": null,
            "min_height": null,
            "min_width": null,
            "object_fit": null,
            "object_position": null,
            "order": null,
            "overflow": null,
            "overflow_x": null,
            "overflow_y": null,
            "padding": null,
            "right": null,
            "top": null,
            "visibility": null,
            "width": null
          }
        },
        "868476ebb8dd44daa5a4942e812ee6f8": {
          "model_module": "@jupyter-widgets/controls",
          "model_name": "DescriptionStyleModel",
          "model_module_version": "1.5.0",
          "state": {
            "_model_module": "@jupyter-widgets/controls",
            "_model_module_version": "1.5.0",
            "_model_name": "DescriptionStyleModel",
            "_view_count": null,
            "_view_module": "@jupyter-widgets/base",
            "_view_module_version": "1.2.0",
            "_view_name": "StyleView",
            "description_width": ""
          }
        },
        "58d63e2ad4fc41f386bed2ff2ae6878d": {
          "model_module": "@jupyter-widgets/controls",
          "model_name": "HBoxModel",
          "model_module_version": "1.5.0",
          "state": {
            "_dom_classes": [],
            "_model_module": "@jupyter-widgets/controls",
            "_model_module_version": "1.5.0",
            "_model_name": "HBoxModel",
            "_view_count": null,
            "_view_module": "@jupyter-widgets/controls",
            "_view_module_version": "1.5.0",
            "_view_name": "HBoxView",
            "box_style": "",
            "children": [
              "IPY_MODEL_76f80dc0c38d41d9a9a27a71dbb4b579",
              "IPY_MODEL_231081003f604e12a2d08dc42c676971",
              "IPY_MODEL_8c4863ffadcd469090396e0b5b7fc2fb"
            ],
            "layout": "IPY_MODEL_9990659ffefd4aa493ebe0a2e38a2a9d"
          }
        },
        "76f80dc0c38d41d9a9a27a71dbb4b579": {
          "model_module": "@jupyter-widgets/controls",
          "model_name": "HTMLModel",
          "model_module_version": "1.5.0",
          "state": {
            "_dom_classes": [],
            "_model_module": "@jupyter-widgets/controls",
            "_model_module_version": "1.5.0",
            "_model_name": "HTMLModel",
            "_view_count": null,
            "_view_module": "@jupyter-widgets/controls",
            "_view_module_version": "1.5.0",
            "_view_name": "HTMLView",
            "description": "",
            "description_tooltip": null,
            "layout": "IPY_MODEL_f4390684f5894f7794c79e2b7c2b6eed",
            "placeholder": "​",
            "style": "IPY_MODEL_c79e6b9f625f4d4a93565246fa468dab",
            "value": "Generating test split: 100%"
          }
        },
        "231081003f604e12a2d08dc42c676971": {
          "model_module": "@jupyter-widgets/controls",
          "model_name": "FloatProgressModel",
          "model_module_version": "1.5.0",
          "state": {
            "_dom_classes": [],
            "_model_module": "@jupyter-widgets/controls",
            "_model_module_version": "1.5.0",
            "_model_name": "FloatProgressModel",
            "_view_count": null,
            "_view_module": "@jupyter-widgets/controls",
            "_view_module_version": "1.5.0",
            "_view_name": "ProgressView",
            "bar_style": "success",
            "description": "",
            "description_tooltip": null,
            "layout": "IPY_MODEL_0e3b52a260384334862256d0cae632d9",
            "max": 14383,
            "min": 0,
            "orientation": "horizontal",
            "style": "IPY_MODEL_2fd2555c2b9045baae983a7e83af8735",
            "value": 14383
          }
        },
        "8c4863ffadcd469090396e0b5b7fc2fb": {
          "model_module": "@jupyter-widgets/controls",
          "model_name": "HTMLModel",
          "model_module_version": "1.5.0",
          "state": {
            "_dom_classes": [],
            "_model_module": "@jupyter-widgets/controls",
            "_model_module_version": "1.5.0",
            "_model_name": "HTMLModel",
            "_view_count": null,
            "_view_module": "@jupyter-widgets/controls",
            "_view_module_version": "1.5.0",
            "_view_name": "HTMLView",
            "description": "",
            "description_tooltip": null,
            "layout": "IPY_MODEL_f96b20d0985f4d07a4b651705127a741",
            "placeholder": "​",
            "style": "IPY_MODEL_84028bad76714a2baf5ba7bb1a2e2520",
            "value": " 14383/14383 [00:00&lt;00:00, 43611.47 examples/s]"
          }
        },
        "9990659ffefd4aa493ebe0a2e38a2a9d": {
          "model_module": "@jupyter-widgets/base",
          "model_name": "LayoutModel",
          "model_module_version": "1.2.0",
          "state": {
            "_model_module": "@jupyter-widgets/base",
            "_model_module_version": "1.2.0",
            "_model_name": "LayoutModel",
            "_view_count": null,
            "_view_module": "@jupyter-widgets/base",
            "_view_module_version": "1.2.0",
            "_view_name": "LayoutView",
            "align_content": null,
            "align_items": null,
            "align_self": null,
            "border": null,
            "bottom": null,
            "display": null,
            "flex": null,
            "flex_flow": null,
            "grid_area": null,
            "grid_auto_columns": null,
            "grid_auto_flow": null,
            "grid_auto_rows": null,
            "grid_column": null,
            "grid_gap": null,
            "grid_row": null,
            "grid_template_areas": null,
            "grid_template_columns": null,
            "grid_template_rows": null,
            "height": null,
            "justify_content": null,
            "justify_items": null,
            "left": null,
            "margin": null,
            "max_height": null,
            "max_width": null,
            "min_height": null,
            "min_width": null,
            "object_fit": null,
            "object_position": null,
            "order": null,
            "overflow": null,
            "overflow_x": null,
            "overflow_y": null,
            "padding": null,
            "right": null,
            "top": null,
            "visibility": null,
            "width": null
          }
        },
        "f4390684f5894f7794c79e2b7c2b6eed": {
          "model_module": "@jupyter-widgets/base",
          "model_name": "LayoutModel",
          "model_module_version": "1.2.0",
          "state": {
            "_model_module": "@jupyter-widgets/base",
            "_model_module_version": "1.2.0",
            "_model_name": "LayoutModel",
            "_view_count": null,
            "_view_module": "@jupyter-widgets/base",
            "_view_module_version": "1.2.0",
            "_view_name": "LayoutView",
            "align_content": null,
            "align_items": null,
            "align_self": null,
            "border": null,
            "bottom": null,
            "display": null,
            "flex": null,
            "flex_flow": null,
            "grid_area": null,
            "grid_auto_columns": null,
            "grid_auto_flow": null,
            "grid_auto_rows": null,
            "grid_column": null,
            "grid_gap": null,
            "grid_row": null,
            "grid_template_areas": null,
            "grid_template_columns": null,
            "grid_template_rows": null,
            "height": null,
            "justify_content": null,
            "justify_items": null,
            "left": null,
            "margin": null,
            "max_height": null,
            "max_width": null,
            "min_height": null,
            "min_width": null,
            "object_fit": null,
            "object_position": null,
            "order": null,
            "overflow": null,
            "overflow_x": null,
            "overflow_y": null,
            "padding": null,
            "right": null,
            "top": null,
            "visibility": null,
            "width": null
          }
        },
        "c79e6b9f625f4d4a93565246fa468dab": {
          "model_module": "@jupyter-widgets/controls",
          "model_name": "DescriptionStyleModel",
          "model_module_version": "1.5.0",
          "state": {
            "_model_module": "@jupyter-widgets/controls",
            "_model_module_version": "1.5.0",
            "_model_name": "DescriptionStyleModel",
            "_view_count": null,
            "_view_module": "@jupyter-widgets/base",
            "_view_module_version": "1.2.0",
            "_view_name": "StyleView",
            "description_width": ""
          }
        },
        "0e3b52a260384334862256d0cae632d9": {
          "model_module": "@jupyter-widgets/base",
          "model_name": "LayoutModel",
          "model_module_version": "1.2.0",
          "state": {
            "_model_module": "@jupyter-widgets/base",
            "_model_module_version": "1.2.0",
            "_model_name": "LayoutModel",
            "_view_count": null,
            "_view_module": "@jupyter-widgets/base",
            "_view_module_version": "1.2.0",
            "_view_name": "LayoutView",
            "align_content": null,
            "align_items": null,
            "align_self": null,
            "border": null,
            "bottom": null,
            "display": null,
            "flex": null,
            "flex_flow": null,
            "grid_area": null,
            "grid_auto_columns": null,
            "grid_auto_flow": null,
            "grid_auto_rows": null,
            "grid_column": null,
            "grid_gap": null,
            "grid_row": null,
            "grid_template_areas": null,
            "grid_template_columns": null,
            "grid_template_rows": null,
            "height": null,
            "justify_content": null,
            "justify_items": null,
            "left": null,
            "margin": null,
            "max_height": null,
            "max_width": null,
            "min_height": null,
            "min_width": null,
            "object_fit": null,
            "object_position": null,
            "order": null,
            "overflow": null,
            "overflow_x": null,
            "overflow_y": null,
            "padding": null,
            "right": null,
            "top": null,
            "visibility": null,
            "width": null
          }
        },
        "2fd2555c2b9045baae983a7e83af8735": {
          "model_module": "@jupyter-widgets/controls",
          "model_name": "ProgressStyleModel",
          "model_module_version": "1.5.0",
          "state": {
            "_model_module": "@jupyter-widgets/controls",
            "_model_module_version": "1.5.0",
            "_model_name": "ProgressStyleModel",
            "_view_count": null,
            "_view_module": "@jupyter-widgets/base",
            "_view_module_version": "1.2.0",
            "_view_name": "StyleView",
            "bar_color": null,
            "description_width": ""
          }
        },
        "f96b20d0985f4d07a4b651705127a741": {
          "model_module": "@jupyter-widgets/base",
          "model_name": "LayoutModel",
          "model_module_version": "1.2.0",
          "state": {
            "_model_module": "@jupyter-widgets/base",
            "_model_module_version": "1.2.0",
            "_model_name": "LayoutModel",
            "_view_count": null,
            "_view_module": "@jupyter-widgets/base",
            "_view_module_version": "1.2.0",
            "_view_name": "LayoutView",
            "align_content": null,
            "align_items": null,
            "align_self": null,
            "border": null,
            "bottom": null,
            "display": null,
            "flex": null,
            "flex_flow": null,
            "grid_area": null,
            "grid_auto_columns": null,
            "grid_auto_flow": null,
            "grid_auto_rows": null,
            "grid_column": null,
            "grid_gap": null,
            "grid_row": null,
            "grid_template_areas": null,
            "grid_template_columns": null,
            "grid_template_rows": null,
            "height": null,
            "justify_content": null,
            "justify_items": null,
            "left": null,
            "margin": null,
            "max_height": null,
            "max_width": null,
            "min_height": null,
            "min_width": null,
            "object_fit": null,
            "object_position": null,
            "order": null,
            "overflow": null,
            "overflow_x": null,
            "overflow_y": null,
            "padding": null,
            "right": null,
            "top": null,
            "visibility": null,
            "width": null
          }
        },
        "84028bad76714a2baf5ba7bb1a2e2520": {
          "model_module": "@jupyter-widgets/controls",
          "model_name": "DescriptionStyleModel",
          "model_module_version": "1.5.0",
          "state": {
            "_model_module": "@jupyter-widgets/controls",
            "_model_module_version": "1.5.0",
            "_model_name": "DescriptionStyleModel",
            "_view_count": null,
            "_view_module": "@jupyter-widgets/base",
            "_view_module_version": "1.2.0",
            "_view_name": "StyleView",
            "description_width": ""
          }
        },
        "38dd8f20c15b48e29936d650893da7df": {
          "model_module": "@jupyter-widgets/controls",
          "model_name": "HBoxModel",
          "model_module_version": "1.5.0",
          "state": {
            "_dom_classes": [],
            "_model_module": "@jupyter-widgets/controls",
            "_model_module_version": "1.5.0",
            "_model_name": "HBoxModel",
            "_view_count": null,
            "_view_module": "@jupyter-widgets/controls",
            "_view_module_version": "1.5.0",
            "_view_name": "HBoxView",
            "box_style": "",
            "children": [
              "IPY_MODEL_13421d9a1d714cc58c086695c11d7f33",
              "IPY_MODEL_a994b6cc5d2c43d685e21f211ce9591e",
              "IPY_MODEL_51ae39e667b14b95ba7068afb91cdf46"
            ],
            "layout": "IPY_MODEL_ebc8bd20926a41e9b4caa42aff167c59"
          }
        },
        "13421d9a1d714cc58c086695c11d7f33": {
          "model_module": "@jupyter-widgets/controls",
          "model_name": "HTMLModel",
          "model_module_version": "1.5.0",
          "state": {
            "_dom_classes": [],
            "_model_module": "@jupyter-widgets/controls",
            "_model_module_version": "1.5.0",
            "_model_name": "HTMLModel",
            "_view_count": null,
            "_view_module": "@jupyter-widgets/controls",
            "_view_module_version": "1.5.0",
            "_view_name": "HTMLView",
            "description": "",
            "description_tooltip": null,
            "layout": "IPY_MODEL_c4168c74efad4297a65e8a632cb76ff2",
            "placeholder": "​",
            "style": "IPY_MODEL_d3cb171980b5497fa356e470636c8d42",
            "value": "Filter: 100%"
          }
        },
        "a994b6cc5d2c43d685e21f211ce9591e": {
          "model_module": "@jupyter-widgets/controls",
          "model_name": "FloatProgressModel",
          "model_module_version": "1.5.0",
          "state": {
            "_dom_classes": [],
            "_model_module": "@jupyter-widgets/controls",
            "_model_module_version": "1.5.0",
            "_model_name": "FloatProgressModel",
            "_view_count": null,
            "_view_module": "@jupyter-widgets/controls",
            "_view_module_version": "1.5.0",
            "_view_name": "ProgressView",
            "bar_style": "success",
            "description": "",
            "description_tooltip": null,
            "layout": "IPY_MODEL_f93daa06cdc9403badd5090dadc11977",
            "max": 57530,
            "min": 0,
            "orientation": "horizontal",
            "style": "IPY_MODEL_401987477c23471bb659804b4eeb35d7",
            "value": 57530
          }
        },
        "51ae39e667b14b95ba7068afb91cdf46": {
          "model_module": "@jupyter-widgets/controls",
          "model_name": "HTMLModel",
          "model_module_version": "1.5.0",
          "state": {
            "_dom_classes": [],
            "_model_module": "@jupyter-widgets/controls",
            "_model_module_version": "1.5.0",
            "_model_name": "HTMLModel",
            "_view_count": null,
            "_view_module": "@jupyter-widgets/controls",
            "_view_module_version": "1.5.0",
            "_view_name": "HTMLView",
            "description": "",
            "description_tooltip": null,
            "layout": "IPY_MODEL_29177908fced4393ace92a8a65b92ead",
            "placeholder": "​",
            "style": "IPY_MODEL_7b6447d480f24185a655306d539befbf",
            "value": " 57530/57530 [00:01&lt;00:00, 40585.20 examples/s]"
          }
        },
        "ebc8bd20926a41e9b4caa42aff167c59": {
          "model_module": "@jupyter-widgets/base",
          "model_name": "LayoutModel",
          "model_module_version": "1.2.0",
          "state": {
            "_model_module": "@jupyter-widgets/base",
            "_model_module_version": "1.2.0",
            "_model_name": "LayoutModel",
            "_view_count": null,
            "_view_module": "@jupyter-widgets/base",
            "_view_module_version": "1.2.0",
            "_view_name": "LayoutView",
            "align_content": null,
            "align_items": null,
            "align_self": null,
            "border": null,
            "bottom": null,
            "display": null,
            "flex": null,
            "flex_flow": null,
            "grid_area": null,
            "grid_auto_columns": null,
            "grid_auto_flow": null,
            "grid_auto_rows": null,
            "grid_column": null,
            "grid_gap": null,
            "grid_row": null,
            "grid_template_areas": null,
            "grid_template_columns": null,
            "grid_template_rows": null,
            "height": null,
            "justify_content": null,
            "justify_items": null,
            "left": null,
            "margin": null,
            "max_height": null,
            "max_width": null,
            "min_height": null,
            "min_width": null,
            "object_fit": null,
            "object_position": null,
            "order": null,
            "overflow": null,
            "overflow_x": null,
            "overflow_y": null,
            "padding": null,
            "right": null,
            "top": null,
            "visibility": null,
            "width": null
          }
        },
        "c4168c74efad4297a65e8a632cb76ff2": {
          "model_module": "@jupyter-widgets/base",
          "model_name": "LayoutModel",
          "model_module_version": "1.2.0",
          "state": {
            "_model_module": "@jupyter-widgets/base",
            "_model_module_version": "1.2.0",
            "_model_name": "LayoutModel",
            "_view_count": null,
            "_view_module": "@jupyter-widgets/base",
            "_view_module_version": "1.2.0",
            "_view_name": "LayoutView",
            "align_content": null,
            "align_items": null,
            "align_self": null,
            "border": null,
            "bottom": null,
            "display": null,
            "flex": null,
            "flex_flow": null,
            "grid_area": null,
            "grid_auto_columns": null,
            "grid_auto_flow": null,
            "grid_auto_rows": null,
            "grid_column": null,
            "grid_gap": null,
            "grid_row": null,
            "grid_template_areas": null,
            "grid_template_columns": null,
            "grid_template_rows": null,
            "height": null,
            "justify_content": null,
            "justify_items": null,
            "left": null,
            "margin": null,
            "max_height": null,
            "max_width": null,
            "min_height": null,
            "min_width": null,
            "object_fit": null,
            "object_position": null,
            "order": null,
            "overflow": null,
            "overflow_x": null,
            "overflow_y": null,
            "padding": null,
            "right": null,
            "top": null,
            "visibility": null,
            "width": null
          }
        },
        "d3cb171980b5497fa356e470636c8d42": {
          "model_module": "@jupyter-widgets/controls",
          "model_name": "DescriptionStyleModel",
          "model_module_version": "1.5.0",
          "state": {
            "_model_module": "@jupyter-widgets/controls",
            "_model_module_version": "1.5.0",
            "_model_name": "DescriptionStyleModel",
            "_view_count": null,
            "_view_module": "@jupyter-widgets/base",
            "_view_module_version": "1.2.0",
            "_view_name": "StyleView",
            "description_width": ""
          }
        },
        "f93daa06cdc9403badd5090dadc11977": {
          "model_module": "@jupyter-widgets/base",
          "model_name": "LayoutModel",
          "model_module_version": "1.2.0",
          "state": {
            "_model_module": "@jupyter-widgets/base",
            "_model_module_version": "1.2.0",
            "_model_name": "LayoutModel",
            "_view_count": null,
            "_view_module": "@jupyter-widgets/base",
            "_view_module_version": "1.2.0",
            "_view_name": "LayoutView",
            "align_content": null,
            "align_items": null,
            "align_self": null,
            "border": null,
            "bottom": null,
            "display": null,
            "flex": null,
            "flex_flow": null,
            "grid_area": null,
            "grid_auto_columns": null,
            "grid_auto_flow": null,
            "grid_auto_rows": null,
            "grid_column": null,
            "grid_gap": null,
            "grid_row": null,
            "grid_template_areas": null,
            "grid_template_columns": null,
            "grid_template_rows": null,
            "height": null,
            "justify_content": null,
            "justify_items": null,
            "left": null,
            "margin": null,
            "max_height": null,
            "max_width": null,
            "min_height": null,
            "min_width": null,
            "object_fit": null,
            "object_position": null,
            "order": null,
            "overflow": null,
            "overflow_x": null,
            "overflow_y": null,
            "padding": null,
            "right": null,
            "top": null,
            "visibility": null,
            "width": null
          }
        },
        "401987477c23471bb659804b4eeb35d7": {
          "model_module": "@jupyter-widgets/controls",
          "model_name": "ProgressStyleModel",
          "model_module_version": "1.5.0",
          "state": {
            "_model_module": "@jupyter-widgets/controls",
            "_model_module_version": "1.5.0",
            "_model_name": "ProgressStyleModel",
            "_view_count": null,
            "_view_module": "@jupyter-widgets/base",
            "_view_module_version": "1.2.0",
            "_view_name": "StyleView",
            "bar_color": null,
            "description_width": ""
          }
        },
        "29177908fced4393ace92a8a65b92ead": {
          "model_module": "@jupyter-widgets/base",
          "model_name": "LayoutModel",
          "model_module_version": "1.2.0",
          "state": {
            "_model_module": "@jupyter-widgets/base",
            "_model_module_version": "1.2.0",
            "_model_name": "LayoutModel",
            "_view_count": null,
            "_view_module": "@jupyter-widgets/base",
            "_view_module_version": "1.2.0",
            "_view_name": "LayoutView",
            "align_content": null,
            "align_items": null,
            "align_self": null,
            "border": null,
            "bottom": null,
            "display": null,
            "flex": null,
            "flex_flow": null,
            "grid_area": null,
            "grid_auto_columns": null,
            "grid_auto_flow": null,
            "grid_auto_rows": null,
            "grid_column": null,
            "grid_gap": null,
            "grid_row": null,
            "grid_template_areas": null,
            "grid_template_columns": null,
            "grid_template_rows": null,
            "height": null,
            "justify_content": null,
            "justify_items": null,
            "left": null,
            "margin": null,
            "max_height": null,
            "max_width": null,
            "min_height": null,
            "min_width": null,
            "object_fit": null,
            "object_position": null,
            "order": null,
            "overflow": null,
            "overflow_x": null,
            "overflow_y": null,
            "padding": null,
            "right": null,
            "top": null,
            "visibility": null,
            "width": null
          }
        },
        "7b6447d480f24185a655306d539befbf": {
          "model_module": "@jupyter-widgets/controls",
          "model_name": "DescriptionStyleModel",
          "model_module_version": "1.5.0",
          "state": {
            "_model_module": "@jupyter-widgets/controls",
            "_model_module_version": "1.5.0",
            "_model_name": "DescriptionStyleModel",
            "_view_count": null,
            "_view_module": "@jupyter-widgets/base",
            "_view_module_version": "1.2.0",
            "_view_name": "StyleView",
            "description_width": ""
          }
        },
        "97c877ad9fd04ece9e472ddff40c846e": {
          "model_module": "@jupyter-widgets/controls",
          "model_name": "HBoxModel",
          "model_module_version": "1.5.0",
          "state": {
            "_dom_classes": [],
            "_model_module": "@jupyter-widgets/controls",
            "_model_module_version": "1.5.0",
            "_model_name": "HBoxModel",
            "_view_count": null,
            "_view_module": "@jupyter-widgets/controls",
            "_view_module_version": "1.5.0",
            "_view_name": "HBoxView",
            "box_style": "",
            "children": [
              "IPY_MODEL_dd825322c5b7423798244203a68e3db8",
              "IPY_MODEL_5e6e917e3e634eb7808af4c46ce100bc",
              "IPY_MODEL_7120b13c33824f25aebae47605593d25"
            ],
            "layout": "IPY_MODEL_27798bbe77b54bd6a166640d4d021cb9"
          }
        },
        "dd825322c5b7423798244203a68e3db8": {
          "model_module": "@jupyter-widgets/controls",
          "model_name": "HTMLModel",
          "model_module_version": "1.5.0",
          "state": {
            "_dom_classes": [],
            "_model_module": "@jupyter-widgets/controls",
            "_model_module_version": "1.5.0",
            "_model_name": "HTMLModel",
            "_view_count": null,
            "_view_module": "@jupyter-widgets/controls",
            "_view_module_version": "1.5.0",
            "_view_name": "HTMLView",
            "description": "",
            "description_tooltip": null,
            "layout": "IPY_MODEL_25b11a90e1f1499793996abef718cebb",
            "placeholder": "​",
            "style": "IPY_MODEL_72cfc0504d224b9692e6637058cc751d",
            "value": "Filter: 100%"
          }
        },
        "5e6e917e3e634eb7808af4c46ce100bc": {
          "model_module": "@jupyter-widgets/controls",
          "model_name": "FloatProgressModel",
          "model_module_version": "1.5.0",
          "state": {
            "_dom_classes": [],
            "_model_module": "@jupyter-widgets/controls",
            "_model_module_version": "1.5.0",
            "_model_name": "FloatProgressModel",
            "_view_count": null,
            "_view_module": "@jupyter-widgets/controls",
            "_view_module_version": "1.5.0",
            "_view_name": "ProgressView",
            "bar_style": "success",
            "description": "",
            "description_tooltip": null,
            "layout": "IPY_MODEL_ec6eb716795b457d993b6567b0b38c60",
            "max": 14383,
            "min": 0,
            "orientation": "horizontal",
            "style": "IPY_MODEL_78ed4a203b684ffea96a1ead1b02537a",
            "value": 14383
          }
        },
        "7120b13c33824f25aebae47605593d25": {
          "model_module": "@jupyter-widgets/controls",
          "model_name": "HTMLModel",
          "model_module_version": "1.5.0",
          "state": {
            "_dom_classes": [],
            "_model_module": "@jupyter-widgets/controls",
            "_model_module_version": "1.5.0",
            "_model_name": "HTMLModel",
            "_view_count": null,
            "_view_module": "@jupyter-widgets/controls",
            "_view_module_version": "1.5.0",
            "_view_name": "HTMLView",
            "description": "",
            "description_tooltip": null,
            "layout": "IPY_MODEL_6cc900bdc37747c8afdbb9986d3fa860",
            "placeholder": "​",
            "style": "IPY_MODEL_7d03a9d40e2a40788341a97f830d30d8",
            "value": " 14383/14383 [00:00&lt;00:00, 39090.17 examples/s]"
          }
        },
        "27798bbe77b54bd6a166640d4d021cb9": {
          "model_module": "@jupyter-widgets/base",
          "model_name": "LayoutModel",
          "model_module_version": "1.2.0",
          "state": {
            "_model_module": "@jupyter-widgets/base",
            "_model_module_version": "1.2.0",
            "_model_name": "LayoutModel",
            "_view_count": null,
            "_view_module": "@jupyter-widgets/base",
            "_view_module_version": "1.2.0",
            "_view_name": "LayoutView",
            "align_content": null,
            "align_items": null,
            "align_self": null,
            "border": null,
            "bottom": null,
            "display": null,
            "flex": null,
            "flex_flow": null,
            "grid_area": null,
            "grid_auto_columns": null,
            "grid_auto_flow": null,
            "grid_auto_rows": null,
            "grid_column": null,
            "grid_gap": null,
            "grid_row": null,
            "grid_template_areas": null,
            "grid_template_columns": null,
            "grid_template_rows": null,
            "height": null,
            "justify_content": null,
            "justify_items": null,
            "left": null,
            "margin": null,
            "max_height": null,
            "max_width": null,
            "min_height": null,
            "min_width": null,
            "object_fit": null,
            "object_position": null,
            "order": null,
            "overflow": null,
            "overflow_x": null,
            "overflow_y": null,
            "padding": null,
            "right": null,
            "top": null,
            "visibility": null,
            "width": null
          }
        },
        "25b11a90e1f1499793996abef718cebb": {
          "model_module": "@jupyter-widgets/base",
          "model_name": "LayoutModel",
          "model_module_version": "1.2.0",
          "state": {
            "_model_module": "@jupyter-widgets/base",
            "_model_module_version": "1.2.0",
            "_model_name": "LayoutModel",
            "_view_count": null,
            "_view_module": "@jupyter-widgets/base",
            "_view_module_version": "1.2.0",
            "_view_name": "LayoutView",
            "align_content": null,
            "align_items": null,
            "align_self": null,
            "border": null,
            "bottom": null,
            "display": null,
            "flex": null,
            "flex_flow": null,
            "grid_area": null,
            "grid_auto_columns": null,
            "grid_auto_flow": null,
            "grid_auto_rows": null,
            "grid_column": null,
            "grid_gap": null,
            "grid_row": null,
            "grid_template_areas": null,
            "grid_template_columns": null,
            "grid_template_rows": null,
            "height": null,
            "justify_content": null,
            "justify_items": null,
            "left": null,
            "margin": null,
            "max_height": null,
            "max_width": null,
            "min_height": null,
            "min_width": null,
            "object_fit": null,
            "object_position": null,
            "order": null,
            "overflow": null,
            "overflow_x": null,
            "overflow_y": null,
            "padding": null,
            "right": null,
            "top": null,
            "visibility": null,
            "width": null
          }
        },
        "72cfc0504d224b9692e6637058cc751d": {
          "model_module": "@jupyter-widgets/controls",
          "model_name": "DescriptionStyleModel",
          "model_module_version": "1.5.0",
          "state": {
            "_model_module": "@jupyter-widgets/controls",
            "_model_module_version": "1.5.0",
            "_model_name": "DescriptionStyleModel",
            "_view_count": null,
            "_view_module": "@jupyter-widgets/base",
            "_view_module_version": "1.2.0",
            "_view_name": "StyleView",
            "description_width": ""
          }
        },
        "ec6eb716795b457d993b6567b0b38c60": {
          "model_module": "@jupyter-widgets/base",
          "model_name": "LayoutModel",
          "model_module_version": "1.2.0",
          "state": {
            "_model_module": "@jupyter-widgets/base",
            "_model_module_version": "1.2.0",
            "_model_name": "LayoutModel",
            "_view_count": null,
            "_view_module": "@jupyter-widgets/base",
            "_view_module_version": "1.2.0",
            "_view_name": "LayoutView",
            "align_content": null,
            "align_items": null,
            "align_self": null,
            "border": null,
            "bottom": null,
            "display": null,
            "flex": null,
            "flex_flow": null,
            "grid_area": null,
            "grid_auto_columns": null,
            "grid_auto_flow": null,
            "grid_auto_rows": null,
            "grid_column": null,
            "grid_gap": null,
            "grid_row": null,
            "grid_template_areas": null,
            "grid_template_columns": null,
            "grid_template_rows": null,
            "height": null,
            "justify_content": null,
            "justify_items": null,
            "left": null,
            "margin": null,
            "max_height": null,
            "max_width": null,
            "min_height": null,
            "min_width": null,
            "object_fit": null,
            "object_position": null,
            "order": null,
            "overflow": null,
            "overflow_x": null,
            "overflow_y": null,
            "padding": null,
            "right": null,
            "top": null,
            "visibility": null,
            "width": null
          }
        },
        "78ed4a203b684ffea96a1ead1b02537a": {
          "model_module": "@jupyter-widgets/controls",
          "model_name": "ProgressStyleModel",
          "model_module_version": "1.5.0",
          "state": {
            "_model_module": "@jupyter-widgets/controls",
            "_model_module_version": "1.5.0",
            "_model_name": "ProgressStyleModel",
            "_view_count": null,
            "_view_module": "@jupyter-widgets/base",
            "_view_module_version": "1.2.0",
            "_view_name": "StyleView",
            "bar_color": null,
            "description_width": ""
          }
        },
        "6cc900bdc37747c8afdbb9986d3fa860": {
          "model_module": "@jupyter-widgets/base",
          "model_name": "LayoutModel",
          "model_module_version": "1.2.0",
          "state": {
            "_model_module": "@jupyter-widgets/base",
            "_model_module_version": "1.2.0",
            "_model_name": "LayoutModel",
            "_view_count": null,
            "_view_module": "@jupyter-widgets/base",
            "_view_module_version": "1.2.0",
            "_view_name": "LayoutView",
            "align_content": null,
            "align_items": null,
            "align_self": null,
            "border": null,
            "bottom": null,
            "display": null,
            "flex": null,
            "flex_flow": null,
            "grid_area": null,
            "grid_auto_columns": null,
            "grid_auto_flow": null,
            "grid_auto_rows": null,
            "grid_column": null,
            "grid_gap": null,
            "grid_row": null,
            "grid_template_areas": null,
            "grid_template_columns": null,
            "grid_template_rows": null,
            "height": null,
            "justify_content": null,
            "justify_items": null,
            "left": null,
            "margin": null,
            "max_height": null,
            "max_width": null,
            "min_height": null,
            "min_width": null,
            "object_fit": null,
            "object_position": null,
            "order": null,
            "overflow": null,
            "overflow_x": null,
            "overflow_y": null,
            "padding": null,
            "right": null,
            "top": null,
            "visibility": null,
            "width": null
          }
        },
        "7d03a9d40e2a40788341a97f830d30d8": {
          "model_module": "@jupyter-widgets/controls",
          "model_name": "DescriptionStyleModel",
          "model_module_version": "1.5.0",
          "state": {
            "_model_module": "@jupyter-widgets/controls",
            "_model_module_version": "1.5.0",
            "_model_name": "DescriptionStyleModel",
            "_view_count": null,
            "_view_module": "@jupyter-widgets/base",
            "_view_module_version": "1.2.0",
            "_view_name": "StyleView",
            "description_width": ""
          }
        },
        "2d5647141cf04443b934aeaa05a75ec3": {
          "model_module": "@jupyter-widgets/controls",
          "model_name": "HBoxModel",
          "model_module_version": "1.5.0",
          "state": {
            "_dom_classes": [],
            "_model_module": "@jupyter-widgets/controls",
            "_model_module_version": "1.5.0",
            "_model_name": "HBoxModel",
            "_view_count": null,
            "_view_module": "@jupyter-widgets/controls",
            "_view_module_version": "1.5.0",
            "_view_name": "HBoxView",
            "box_style": "",
            "children": [
              "IPY_MODEL_72724ca2e3954b8fa68f4e5bc86efccd",
              "IPY_MODEL_ee33720b9b1443a0a05b522d4c585b81",
              "IPY_MODEL_ec86ebc1696e43809226fd3c6f088c08"
            ],
            "layout": "IPY_MODEL_aa9e88f0cb5f48dc951a23518cd82bd1"
          }
        },
        "72724ca2e3954b8fa68f4e5bc86efccd": {
          "model_module": "@jupyter-widgets/controls",
          "model_name": "HTMLModel",
          "model_module_version": "1.5.0",
          "state": {
            "_dom_classes": [],
            "_model_module": "@jupyter-widgets/controls",
            "_model_module_version": "1.5.0",
            "_model_name": "HTMLModel",
            "_view_count": null,
            "_view_module": "@jupyter-widgets/controls",
            "_view_module_version": "1.5.0",
            "_view_name": "HTMLView",
            "description": "",
            "description_tooltip": null,
            "layout": "IPY_MODEL_4acfc52cc0464ae3a850d83d498f4d8d",
            "placeholder": "​",
            "style": "IPY_MODEL_a9f9ea6f261848e5a0185f6075d66d72",
            "value": "vocab.json: "
          }
        },
        "ee33720b9b1443a0a05b522d4c585b81": {
          "model_module": "@jupyter-widgets/controls",
          "model_name": "FloatProgressModel",
          "model_module_version": "1.5.0",
          "state": {
            "_dom_classes": [],
            "_model_module": "@jupyter-widgets/controls",
            "_model_module_version": "1.5.0",
            "_model_name": "FloatProgressModel",
            "_view_count": null,
            "_view_module": "@jupyter-widgets/controls",
            "_view_module_version": "1.5.0",
            "_view_name": "ProgressView",
            "bar_style": "success",
            "description": "",
            "description_tooltip": null,
            "layout": "IPY_MODEL_045ab341c6f7423480e5b4f84e2840ff",
            "max": 1,
            "min": 0,
            "orientation": "horizontal",
            "style": "IPY_MODEL_8c15312b560d4301b0d4dba79068b5b0",
            "value": 1
          }
        },
        "ec86ebc1696e43809226fd3c6f088c08": {
          "model_module": "@jupyter-widgets/controls",
          "model_name": "HTMLModel",
          "model_module_version": "1.5.0",
          "state": {
            "_dom_classes": [],
            "_model_module": "@jupyter-widgets/controls",
            "_model_module_version": "1.5.0",
            "_model_name": "HTMLModel",
            "_view_count": null,
            "_view_module": "@jupyter-widgets/controls",
            "_view_module_version": "1.5.0",
            "_view_name": "HTMLView",
            "description": "",
            "description_tooltip": null,
            "layout": "IPY_MODEL_d738dc5274a2483c956d0342e3df2144",
            "placeholder": "​",
            "style": "IPY_MODEL_688a1729ded34ba0a7714fb8738ba20a",
            "value": " 1.81M/? [00:00&lt;00:00, 34.7MB/s]"
          }
        },
        "aa9e88f0cb5f48dc951a23518cd82bd1": {
          "model_module": "@jupyter-widgets/base",
          "model_name": "LayoutModel",
          "model_module_version": "1.2.0",
          "state": {
            "_model_module": "@jupyter-widgets/base",
            "_model_module_version": "1.2.0",
            "_model_name": "LayoutModel",
            "_view_count": null,
            "_view_module": "@jupyter-widgets/base",
            "_view_module_version": "1.2.0",
            "_view_name": "LayoutView",
            "align_content": null,
            "align_items": null,
            "align_self": null,
            "border": null,
            "bottom": null,
            "display": null,
            "flex": null,
            "flex_flow": null,
            "grid_area": null,
            "grid_auto_columns": null,
            "grid_auto_flow": null,
            "grid_auto_rows": null,
            "grid_column": null,
            "grid_gap": null,
            "grid_row": null,
            "grid_template_areas": null,
            "grid_template_columns": null,
            "grid_template_rows": null,
            "height": null,
            "justify_content": null,
            "justify_items": null,
            "left": null,
            "margin": null,
            "max_height": null,
            "max_width": null,
            "min_height": null,
            "min_width": null,
            "object_fit": null,
            "object_position": null,
            "order": null,
            "overflow": null,
            "overflow_x": null,
            "overflow_y": null,
            "padding": null,
            "right": null,
            "top": null,
            "visibility": null,
            "width": null
          }
        },
        "4acfc52cc0464ae3a850d83d498f4d8d": {
          "model_module": "@jupyter-widgets/base",
          "model_name": "LayoutModel",
          "model_module_version": "1.2.0",
          "state": {
            "_model_module": "@jupyter-widgets/base",
            "_model_module_version": "1.2.0",
            "_model_name": "LayoutModel",
            "_view_count": null,
            "_view_module": "@jupyter-widgets/base",
            "_view_module_version": "1.2.0",
            "_view_name": "LayoutView",
            "align_content": null,
            "align_items": null,
            "align_self": null,
            "border": null,
            "bottom": null,
            "display": null,
            "flex": null,
            "flex_flow": null,
            "grid_area": null,
            "grid_auto_columns": null,
            "grid_auto_flow": null,
            "grid_auto_rows": null,
            "grid_column": null,
            "grid_gap": null,
            "grid_row": null,
            "grid_template_areas": null,
            "grid_template_columns": null,
            "grid_template_rows": null,
            "height": null,
            "justify_content": null,
            "justify_items": null,
            "left": null,
            "margin": null,
            "max_height": null,
            "max_width": null,
            "min_height": null,
            "min_width": null,
            "object_fit": null,
            "object_position": null,
            "order": null,
            "overflow": null,
            "overflow_x": null,
            "overflow_y": null,
            "padding": null,
            "right": null,
            "top": null,
            "visibility": null,
            "width": null
          }
        },
        "a9f9ea6f261848e5a0185f6075d66d72": {
          "model_module": "@jupyter-widgets/controls",
          "model_name": "DescriptionStyleModel",
          "model_module_version": "1.5.0",
          "state": {
            "_model_module": "@jupyter-widgets/controls",
            "_model_module_version": "1.5.0",
            "_model_name": "DescriptionStyleModel",
            "_view_count": null,
            "_view_module": "@jupyter-widgets/base",
            "_view_module_version": "1.2.0",
            "_view_name": "StyleView",
            "description_width": ""
          }
        },
        "045ab341c6f7423480e5b4f84e2840ff": {
          "model_module": "@jupyter-widgets/base",
          "model_name": "LayoutModel",
          "model_module_version": "1.2.0",
          "state": {
            "_model_module": "@jupyter-widgets/base",
            "_model_module_version": "1.2.0",
            "_model_name": "LayoutModel",
            "_view_count": null,
            "_view_module": "@jupyter-widgets/base",
            "_view_module_version": "1.2.0",
            "_view_name": "LayoutView",
            "align_content": null,
            "align_items": null,
            "align_self": null,
            "border": null,
            "bottom": null,
            "display": null,
            "flex": null,
            "flex_flow": null,
            "grid_area": null,
            "grid_auto_columns": null,
            "grid_auto_flow": null,
            "grid_auto_rows": null,
            "grid_column": null,
            "grid_gap": null,
            "grid_row": null,
            "grid_template_areas": null,
            "grid_template_columns": null,
            "grid_template_rows": null,
            "height": null,
            "justify_content": null,
            "justify_items": null,
            "left": null,
            "margin": null,
            "max_height": null,
            "max_width": null,
            "min_height": null,
            "min_width": null,
            "object_fit": null,
            "object_position": null,
            "order": null,
            "overflow": null,
            "overflow_x": null,
            "overflow_y": null,
            "padding": null,
            "right": null,
            "top": null,
            "visibility": null,
            "width": "20px"
          }
        },
        "8c15312b560d4301b0d4dba79068b5b0": {
          "model_module": "@jupyter-widgets/controls",
          "model_name": "ProgressStyleModel",
          "model_module_version": "1.5.0",
          "state": {
            "_model_module": "@jupyter-widgets/controls",
            "_model_module_version": "1.5.0",
            "_model_name": "ProgressStyleModel",
            "_view_count": null,
            "_view_module": "@jupyter-widgets/base",
            "_view_module_version": "1.2.0",
            "_view_name": "StyleView",
            "bar_color": null,
            "description_width": ""
          }
        },
        "d738dc5274a2483c956d0342e3df2144": {
          "model_module": "@jupyter-widgets/base",
          "model_name": "LayoutModel",
          "model_module_version": "1.2.0",
          "state": {
            "_model_module": "@jupyter-widgets/base",
            "_model_module_version": "1.2.0",
            "_model_name": "LayoutModel",
            "_view_count": null,
            "_view_module": "@jupyter-widgets/base",
            "_view_module_version": "1.2.0",
            "_view_name": "LayoutView",
            "align_content": null,
            "align_items": null,
            "align_self": null,
            "border": null,
            "bottom": null,
            "display": null,
            "flex": null,
            "flex_flow": null,
            "grid_area": null,
            "grid_auto_columns": null,
            "grid_auto_flow": null,
            "grid_auto_rows": null,
            "grid_column": null,
            "grid_gap": null,
            "grid_row": null,
            "grid_template_areas": null,
            "grid_template_columns": null,
            "grid_template_rows": null,
            "height": null,
            "justify_content": null,
            "justify_items": null,
            "left": null,
            "margin": null,
            "max_height": null,
            "max_width": null,
            "min_height": null,
            "min_width": null,
            "object_fit": null,
            "object_position": null,
            "order": null,
            "overflow": null,
            "overflow_x": null,
            "overflow_y": null,
            "padding": null,
            "right": null,
            "top": null,
            "visibility": null,
            "width": null
          }
        },
        "688a1729ded34ba0a7714fb8738ba20a": {
          "model_module": "@jupyter-widgets/controls",
          "model_name": "DescriptionStyleModel",
          "model_module_version": "1.5.0",
          "state": {
            "_model_module": "@jupyter-widgets/controls",
            "_model_module_version": "1.5.0",
            "_model_name": "DescriptionStyleModel",
            "_view_count": null,
            "_view_module": "@jupyter-widgets/base",
            "_view_module_version": "1.2.0",
            "_view_name": "StyleView",
            "description_width": ""
          }
        },
        "602ad23ac83746ebbbe848fc7e94ca84": {
          "model_module": "@jupyter-widgets/controls",
          "model_name": "HBoxModel",
          "model_module_version": "1.5.0",
          "state": {
            "_dom_classes": [],
            "_model_module": "@jupyter-widgets/controls",
            "_model_module_version": "1.5.0",
            "_model_name": "HBoxModel",
            "_view_count": null,
            "_view_module": "@jupyter-widgets/controls",
            "_view_module_version": "1.5.0",
            "_view_name": "HBoxView",
            "box_style": "",
            "children": [
              "IPY_MODEL_e1dff25c18ca4a86b68f7c83967b1603",
              "IPY_MODEL_3ef9bc6f289349f99b5a56f6a1b52131",
              "IPY_MODEL_10767c031907448c993166ff47816459"
            ],
            "layout": "IPY_MODEL_54329b0b7a704c8980fc56de00d2dc11"
          }
        },
        "e1dff25c18ca4a86b68f7c83967b1603": {
          "model_module": "@jupyter-widgets/controls",
          "model_name": "HTMLModel",
          "model_module_version": "1.5.0",
          "state": {
            "_dom_classes": [],
            "_model_module": "@jupyter-widgets/controls",
            "_model_module_version": "1.5.0",
            "_model_name": "HTMLModel",
            "_view_count": null,
            "_view_module": "@jupyter-widgets/controls",
            "_view_module_version": "1.5.0",
            "_view_name": "HTMLView",
            "description": "",
            "description_tooltip": null,
            "layout": "IPY_MODEL_0c0a4486fabf41ca971f535cf495ff54",
            "placeholder": "​",
            "style": "IPY_MODEL_aba7c22e31db46fa9fb6231883398546",
            "value": "merges.txt: "
          }
        },
        "3ef9bc6f289349f99b5a56f6a1b52131": {
          "model_module": "@jupyter-widgets/controls",
          "model_name": "FloatProgressModel",
          "model_module_version": "1.5.0",
          "state": {
            "_dom_classes": [],
            "_model_module": "@jupyter-widgets/controls",
            "_model_module_version": "1.5.0",
            "_model_name": "FloatProgressModel",
            "_view_count": null,
            "_view_module": "@jupyter-widgets/controls",
            "_view_module_version": "1.5.0",
            "_view_name": "ProgressView",
            "bar_style": "success",
            "description": "",
            "description_tooltip": null,
            "layout": "IPY_MODEL_6dea1a5d023e42b79e7ec4257db39306",
            "max": 1,
            "min": 0,
            "orientation": "horizontal",
            "style": "IPY_MODEL_c8685438bda6459994917e3bcfe41b00",
            "value": 1
          }
        },
        "10767c031907448c993166ff47816459": {
          "model_module": "@jupyter-widgets/controls",
          "model_name": "HTMLModel",
          "model_module_version": "1.5.0",
          "state": {
            "_dom_classes": [],
            "_model_module": "@jupyter-widgets/controls",
            "_model_module_version": "1.5.0",
            "_model_name": "HTMLModel",
            "_view_count": null,
            "_view_module": "@jupyter-widgets/controls",
            "_view_module_version": "1.5.0",
            "_view_name": "HTMLView",
            "description": "",
            "description_tooltip": null,
            "layout": "IPY_MODEL_4e28fa2008d044e0b5190ce6fa9c1736",
            "placeholder": "​",
            "style": "IPY_MODEL_b4690ef22e9c47f994a869cc5689c45a",
            "value": " 1.37M/? [00:00&lt;00:00, 49.3MB/s]"
          }
        },
        "54329b0b7a704c8980fc56de00d2dc11": {
          "model_module": "@jupyter-widgets/base",
          "model_name": "LayoutModel",
          "model_module_version": "1.2.0",
          "state": {
            "_model_module": "@jupyter-widgets/base",
            "_model_module_version": "1.2.0",
            "_model_name": "LayoutModel",
            "_view_count": null,
            "_view_module": "@jupyter-widgets/base",
            "_view_module_version": "1.2.0",
            "_view_name": "LayoutView",
            "align_content": null,
            "align_items": null,
            "align_self": null,
            "border": null,
            "bottom": null,
            "display": null,
            "flex": null,
            "flex_flow": null,
            "grid_area": null,
            "grid_auto_columns": null,
            "grid_auto_flow": null,
            "grid_auto_rows": null,
            "grid_column": null,
            "grid_gap": null,
            "grid_row": null,
            "grid_template_areas": null,
            "grid_template_columns": null,
            "grid_template_rows": null,
            "height": null,
            "justify_content": null,
            "justify_items": null,
            "left": null,
            "margin": null,
            "max_height": null,
            "max_width": null,
            "min_height": null,
            "min_width": null,
            "object_fit": null,
            "object_position": null,
            "order": null,
            "overflow": null,
            "overflow_x": null,
            "overflow_y": null,
            "padding": null,
            "right": null,
            "top": null,
            "visibility": null,
            "width": null
          }
        },
        "0c0a4486fabf41ca971f535cf495ff54": {
          "model_module": "@jupyter-widgets/base",
          "model_name": "LayoutModel",
          "model_module_version": "1.2.0",
          "state": {
            "_model_module": "@jupyter-widgets/base",
            "_model_module_version": "1.2.0",
            "_model_name": "LayoutModel",
            "_view_count": null,
            "_view_module": "@jupyter-widgets/base",
            "_view_module_version": "1.2.0",
            "_view_name": "LayoutView",
            "align_content": null,
            "align_items": null,
            "align_self": null,
            "border": null,
            "bottom": null,
            "display": null,
            "flex": null,
            "flex_flow": null,
            "grid_area": null,
            "grid_auto_columns": null,
            "grid_auto_flow": null,
            "grid_auto_rows": null,
            "grid_column": null,
            "grid_gap": null,
            "grid_row": null,
            "grid_template_areas": null,
            "grid_template_columns": null,
            "grid_template_rows": null,
            "height": null,
            "justify_content": null,
            "justify_items": null,
            "left": null,
            "margin": null,
            "max_height": null,
            "max_width": null,
            "min_height": null,
            "min_width": null,
            "object_fit": null,
            "object_position": null,
            "order": null,
            "overflow": null,
            "overflow_x": null,
            "overflow_y": null,
            "padding": null,
            "right": null,
            "top": null,
            "visibility": null,
            "width": null
          }
        },
        "aba7c22e31db46fa9fb6231883398546": {
          "model_module": "@jupyter-widgets/controls",
          "model_name": "DescriptionStyleModel",
          "model_module_version": "1.5.0",
          "state": {
            "_model_module": "@jupyter-widgets/controls",
            "_model_module_version": "1.5.0",
            "_model_name": "DescriptionStyleModel",
            "_view_count": null,
            "_view_module": "@jupyter-widgets/base",
            "_view_module_version": "1.2.0",
            "_view_name": "StyleView",
            "description_width": ""
          }
        },
        "6dea1a5d023e42b79e7ec4257db39306": {
          "model_module": "@jupyter-widgets/base",
          "model_name": "LayoutModel",
          "model_module_version": "1.2.0",
          "state": {
            "_model_module": "@jupyter-widgets/base",
            "_model_module_version": "1.2.0",
            "_model_name": "LayoutModel",
            "_view_count": null,
            "_view_module": "@jupyter-widgets/base",
            "_view_module_version": "1.2.0",
            "_view_name": "LayoutView",
            "align_content": null,
            "align_items": null,
            "align_self": null,
            "border": null,
            "bottom": null,
            "display": null,
            "flex": null,
            "flex_flow": null,
            "grid_area": null,
            "grid_auto_columns": null,
            "grid_auto_flow": null,
            "grid_auto_rows": null,
            "grid_column": null,
            "grid_gap": null,
            "grid_row": null,
            "grid_template_areas": null,
            "grid_template_columns": null,
            "grid_template_rows": null,
            "height": null,
            "justify_content": null,
            "justify_items": null,
            "left": null,
            "margin": null,
            "max_height": null,
            "max_width": null,
            "min_height": null,
            "min_width": null,
            "object_fit": null,
            "object_position": null,
            "order": null,
            "overflow": null,
            "overflow_x": null,
            "overflow_y": null,
            "padding": null,
            "right": null,
            "top": null,
            "visibility": null,
            "width": "20px"
          }
        },
        "c8685438bda6459994917e3bcfe41b00": {
          "model_module": "@jupyter-widgets/controls",
          "model_name": "ProgressStyleModel",
          "model_module_version": "1.5.0",
          "state": {
            "_model_module": "@jupyter-widgets/controls",
            "_model_module_version": "1.5.0",
            "_model_name": "ProgressStyleModel",
            "_view_count": null,
            "_view_module": "@jupyter-widgets/base",
            "_view_module_version": "1.2.0",
            "_view_name": "StyleView",
            "bar_color": null,
            "description_width": ""
          }
        },
        "4e28fa2008d044e0b5190ce6fa9c1736": {
          "model_module": "@jupyter-widgets/base",
          "model_name": "LayoutModel",
          "model_module_version": "1.2.0",
          "state": {
            "_model_module": "@jupyter-widgets/base",
            "_model_module_version": "1.2.0",
            "_model_name": "LayoutModel",
            "_view_count": null,
            "_view_module": "@jupyter-widgets/base",
            "_view_module_version": "1.2.0",
            "_view_name": "LayoutView",
            "align_content": null,
            "align_items": null,
            "align_self": null,
            "border": null,
            "bottom": null,
            "display": null,
            "flex": null,
            "flex_flow": null,
            "grid_area": null,
            "grid_auto_columns": null,
            "grid_auto_flow": null,
            "grid_auto_rows": null,
            "grid_column": null,
            "grid_gap": null,
            "grid_row": null,
            "grid_template_areas": null,
            "grid_template_columns": null,
            "grid_template_rows": null,
            "height": null,
            "justify_content": null,
            "justify_items": null,
            "left": null,
            "margin": null,
            "max_height": null,
            "max_width": null,
            "min_height": null,
            "min_width": null,
            "object_fit": null,
            "object_position": null,
            "order": null,
            "overflow": null,
            "overflow_x": null,
            "overflow_y": null,
            "padding": null,
            "right": null,
            "top": null,
            "visibility": null,
            "width": null
          }
        },
        "b4690ef22e9c47f994a869cc5689c45a": {
          "model_module": "@jupyter-widgets/controls",
          "model_name": "DescriptionStyleModel",
          "model_module_version": "1.5.0",
          "state": {
            "_model_module": "@jupyter-widgets/controls",
            "_model_module_version": "1.5.0",
            "_model_name": "DescriptionStyleModel",
            "_view_count": null,
            "_view_module": "@jupyter-widgets/base",
            "_view_module_version": "1.2.0",
            "_view_name": "StyleView",
            "description_width": ""
          }
        },
        "6122d67e65fe45eead337c853ed291d2": {
          "model_module": "@jupyter-widgets/controls",
          "model_name": "HBoxModel",
          "model_module_version": "1.5.0",
          "state": {
            "_dom_classes": [],
            "_model_module": "@jupyter-widgets/controls",
            "_model_module_version": "1.5.0",
            "_model_name": "HBoxModel",
            "_view_count": null,
            "_view_module": "@jupyter-widgets/controls",
            "_view_module_version": "1.5.0",
            "_view_name": "HBoxView",
            "box_style": "",
            "children": [
              "IPY_MODEL_5e502996b56b470ca63fbdc78a0c9cb8",
              "IPY_MODEL_45030afc152144108a98996f22912b07",
              "IPY_MODEL_77380d0341054e7ebfa87718d02e4ff2"
            ],
            "layout": "IPY_MODEL_74a5442bc1674465a6bb184f6905cb84"
          }
        },
        "5e502996b56b470ca63fbdc78a0c9cb8": {
          "model_module": "@jupyter-widgets/controls",
          "model_name": "HTMLModel",
          "model_module_version": "1.5.0",
          "state": {
            "_dom_classes": [],
            "_model_module": "@jupyter-widgets/controls",
            "_model_module_version": "1.5.0",
            "_model_name": "HTMLModel",
            "_view_count": null,
            "_view_module": "@jupyter-widgets/controls",
            "_view_module_version": "1.5.0",
            "_view_name": "HTMLView",
            "description": "",
            "description_tooltip": null,
            "layout": "IPY_MODEL_6322947ad9824ee893f17901e88e4205",
            "placeholder": "​",
            "style": "IPY_MODEL_7f2700d3eb9f4e429cdccf690f2b491a",
            "value": "config.json: 100%"
          }
        },
        "45030afc152144108a98996f22912b07": {
          "model_module": "@jupyter-widgets/controls",
          "model_name": "FloatProgressModel",
          "model_module_version": "1.5.0",
          "state": {
            "_dom_classes": [],
            "_model_module": "@jupyter-widgets/controls",
            "_model_module_version": "1.5.0",
            "_model_name": "FloatProgressModel",
            "_view_count": null,
            "_view_module": "@jupyter-widgets/controls",
            "_view_module_version": "1.5.0",
            "_view_name": "ProgressView",
            "bar_style": "success",
            "description": "",
            "description_tooltip": null,
            "layout": "IPY_MODEL_efe904b7d929406baae55e93c2d57a65",
            "max": 674,
            "min": 0,
            "orientation": "horizontal",
            "style": "IPY_MODEL_bea4d7a4b9c740a3993abddcaeb99519",
            "value": 674
          }
        },
        "77380d0341054e7ebfa87718d02e4ff2": {
          "model_module": "@jupyter-widgets/controls",
          "model_name": "HTMLModel",
          "model_module_version": "1.5.0",
          "state": {
            "_dom_classes": [],
            "_model_module": "@jupyter-widgets/controls",
            "_model_module_version": "1.5.0",
            "_model_name": "HTMLModel",
            "_view_count": null,
            "_view_module": "@jupyter-widgets/controls",
            "_view_module_version": "1.5.0",
            "_view_name": "HTMLView",
            "description": "",
            "description_tooltip": null,
            "layout": "IPY_MODEL_be0f5453397d4ea0845ad6aa63fdaf6a",
            "placeholder": "​",
            "style": "IPY_MODEL_25aededa07f34c84bb5e3db858b73d29",
            "value": " 674/674 [00:00&lt;00:00, 48.0kB/s]"
          }
        },
        "74a5442bc1674465a6bb184f6905cb84": {
          "model_module": "@jupyter-widgets/base",
          "model_name": "LayoutModel",
          "model_module_version": "1.2.0",
          "state": {
            "_model_module": "@jupyter-widgets/base",
            "_model_module_version": "1.2.0",
            "_model_name": "LayoutModel",
            "_view_count": null,
            "_view_module": "@jupyter-widgets/base",
            "_view_module_version": "1.2.0",
            "_view_name": "LayoutView",
            "align_content": null,
            "align_items": null,
            "align_self": null,
            "border": null,
            "bottom": null,
            "display": null,
            "flex": null,
            "flex_flow": null,
            "grid_area": null,
            "grid_auto_columns": null,
            "grid_auto_flow": null,
            "grid_auto_rows": null,
            "grid_column": null,
            "grid_gap": null,
            "grid_row": null,
            "grid_template_areas": null,
            "grid_template_columns": null,
            "grid_template_rows": null,
            "height": null,
            "justify_content": null,
            "justify_items": null,
            "left": null,
            "margin": null,
            "max_height": null,
            "max_width": null,
            "min_height": null,
            "min_width": null,
            "object_fit": null,
            "object_position": null,
            "order": null,
            "overflow": null,
            "overflow_x": null,
            "overflow_y": null,
            "padding": null,
            "right": null,
            "top": null,
            "visibility": null,
            "width": null
          }
        },
        "6322947ad9824ee893f17901e88e4205": {
          "model_module": "@jupyter-widgets/base",
          "model_name": "LayoutModel",
          "model_module_version": "1.2.0",
          "state": {
            "_model_module": "@jupyter-widgets/base",
            "_model_module_version": "1.2.0",
            "_model_name": "LayoutModel",
            "_view_count": null,
            "_view_module": "@jupyter-widgets/base",
            "_view_module_version": "1.2.0",
            "_view_name": "LayoutView",
            "align_content": null,
            "align_items": null,
            "align_self": null,
            "border": null,
            "bottom": null,
            "display": null,
            "flex": null,
            "flex_flow": null,
            "grid_area": null,
            "grid_auto_columns": null,
            "grid_auto_flow": null,
            "grid_auto_rows": null,
            "grid_column": null,
            "grid_gap": null,
            "grid_row": null,
            "grid_template_areas": null,
            "grid_template_columns": null,
            "grid_template_rows": null,
            "height": null,
            "justify_content": null,
            "justify_items": null,
            "left": null,
            "margin": null,
            "max_height": null,
            "max_width": null,
            "min_height": null,
            "min_width": null,
            "object_fit": null,
            "object_position": null,
            "order": null,
            "overflow": null,
            "overflow_x": null,
            "overflow_y": null,
            "padding": null,
            "right": null,
            "top": null,
            "visibility": null,
            "width": null
          }
        },
        "7f2700d3eb9f4e429cdccf690f2b491a": {
          "model_module": "@jupyter-widgets/controls",
          "model_name": "DescriptionStyleModel",
          "model_module_version": "1.5.0",
          "state": {
            "_model_module": "@jupyter-widgets/controls",
            "_model_module_version": "1.5.0",
            "_model_name": "DescriptionStyleModel",
            "_view_count": null,
            "_view_module": "@jupyter-widgets/base",
            "_view_module_version": "1.2.0",
            "_view_name": "StyleView",
            "description_width": ""
          }
        },
        "efe904b7d929406baae55e93c2d57a65": {
          "model_module": "@jupyter-widgets/base",
          "model_name": "LayoutModel",
          "model_module_version": "1.2.0",
          "state": {
            "_model_module": "@jupyter-widgets/base",
            "_model_module_version": "1.2.0",
            "_model_name": "LayoutModel",
            "_view_count": null,
            "_view_module": "@jupyter-widgets/base",
            "_view_module_version": "1.2.0",
            "_view_name": "LayoutView",
            "align_content": null,
            "align_items": null,
            "align_self": null,
            "border": null,
            "bottom": null,
            "display": null,
            "flex": null,
            "flex_flow": null,
            "grid_area": null,
            "grid_auto_columns": null,
            "grid_auto_flow": null,
            "grid_auto_rows": null,
            "grid_column": null,
            "grid_gap": null,
            "grid_row": null,
            "grid_template_areas": null,
            "grid_template_columns": null,
            "grid_template_rows": null,
            "height": null,
            "justify_content": null,
            "justify_items": null,
            "left": null,
            "margin": null,
            "max_height": null,
            "max_width": null,
            "min_height": null,
            "min_width": null,
            "object_fit": null,
            "object_position": null,
            "order": null,
            "overflow": null,
            "overflow_x": null,
            "overflow_y": null,
            "padding": null,
            "right": null,
            "top": null,
            "visibility": null,
            "width": null
          }
        },
        "bea4d7a4b9c740a3993abddcaeb99519": {
          "model_module": "@jupyter-widgets/controls",
          "model_name": "ProgressStyleModel",
          "model_module_version": "1.5.0",
          "state": {
            "_model_module": "@jupyter-widgets/controls",
            "_model_module_version": "1.5.0",
            "_model_name": "ProgressStyleModel",
            "_view_count": null,
            "_view_module": "@jupyter-widgets/base",
            "_view_module_version": "1.2.0",
            "_view_name": "StyleView",
            "bar_color": null,
            "description_width": ""
          }
        },
        "be0f5453397d4ea0845ad6aa63fdaf6a": {
          "model_module": "@jupyter-widgets/base",
          "model_name": "LayoutModel",
          "model_module_version": "1.2.0",
          "state": {
            "_model_module": "@jupyter-widgets/base",
            "_model_module_version": "1.2.0",
            "_model_name": "LayoutModel",
            "_view_count": null,
            "_view_module": "@jupyter-widgets/base",
            "_view_module_version": "1.2.0",
            "_view_name": "LayoutView",
            "align_content": null,
            "align_items": null,
            "align_self": null,
            "border": null,
            "bottom": null,
            "display": null,
            "flex": null,
            "flex_flow": null,
            "grid_area": null,
            "grid_auto_columns": null,
            "grid_auto_flow": null,
            "grid_auto_rows": null,
            "grid_column": null,
            "grid_gap": null,
            "grid_row": null,
            "grid_template_areas": null,
            "grid_template_columns": null,
            "grid_template_rows": null,
            "height": null,
            "justify_content": null,
            "justify_items": null,
            "left": null,
            "margin": null,
            "max_height": null,
            "max_width": null,
            "min_height": null,
            "min_width": null,
            "object_fit": null,
            "object_position": null,
            "order": null,
            "overflow": null,
            "overflow_x": null,
            "overflow_y": null,
            "padding": null,
            "right": null,
            "top": null,
            "visibility": null,
            "width": null
          }
        },
        "25aededa07f34c84bb5e3db858b73d29": {
          "model_module": "@jupyter-widgets/controls",
          "model_name": "DescriptionStyleModel",
          "model_module_version": "1.5.0",
          "state": {
            "_model_module": "@jupyter-widgets/controls",
            "_model_module_version": "1.5.0",
            "_model_name": "DescriptionStyleModel",
            "_view_count": null,
            "_view_module": "@jupyter-widgets/base",
            "_view_module_version": "1.2.0",
            "_view_name": "StyleView",
            "description_width": ""
          }
        },
        "2b8fbd099a604db2b61f5daf94e53e09": {
          "model_module": "@jupyter-widgets/controls",
          "model_name": "HBoxModel",
          "model_module_version": "1.5.0",
          "state": {
            "_dom_classes": [],
            "_model_module": "@jupyter-widgets/controls",
            "_model_module_version": "1.5.0",
            "_model_name": "HBoxModel",
            "_view_count": null,
            "_view_module": "@jupyter-widgets/controls",
            "_view_module_version": "1.5.0",
            "_view_name": "HBoxView",
            "box_style": "",
            "children": [
              "IPY_MODEL_913b66c30fdf4937a2d028a8b8e770e0",
              "IPY_MODEL_aa9804392b3c47b3bdad509e808ea9fd",
              "IPY_MODEL_4a2e68abeea148df820ec7c36fd24e78"
            ],
            "layout": "IPY_MODEL_3a182dc6ad1745f392abb3f755ce7da4"
          }
        },
        "913b66c30fdf4937a2d028a8b8e770e0": {
          "model_module": "@jupyter-widgets/controls",
          "model_name": "HTMLModel",
          "model_module_version": "1.5.0",
          "state": {
            "_dom_classes": [],
            "_model_module": "@jupyter-widgets/controls",
            "_model_module_version": "1.5.0",
            "_model_name": "HTMLModel",
            "_view_count": null,
            "_view_module": "@jupyter-widgets/controls",
            "_view_module_version": "1.5.0",
            "_view_name": "HTMLView",
            "description": "",
            "description_tooltip": null,
            "layout": "IPY_MODEL_961a0a0684d8423b821bd4610bd03765",
            "placeholder": "​",
            "style": "IPY_MODEL_2711af35c5804655acee2fc70f10adc2",
            "value": "pytorch_model.bin: 100%"
          }
        },
        "aa9804392b3c47b3bdad509e808ea9fd": {
          "model_module": "@jupyter-widgets/controls",
          "model_name": "FloatProgressModel",
          "model_module_version": "1.5.0",
          "state": {
            "_dom_classes": [],
            "_model_module": "@jupyter-widgets/controls",
            "_model_module_version": "1.5.0",
            "_model_name": "FloatProgressModel",
            "_view_count": null,
            "_view_module": "@jupyter-widgets/controls",
            "_view_module_version": "1.5.0",
            "_view_name": "ProgressView",
            "bar_style": "success",
            "description": "",
            "description_tooltip": null,
            "layout": "IPY_MODEL_cb51b8020b7a4f95a4b2a5ea3214650c",
            "max": 1421754926,
            "min": 0,
            "orientation": "horizontal",
            "style": "IPY_MODEL_446beb24b68a4636b03b426c58ca6277",
            "value": 1421754926
          }
        },
        "4a2e68abeea148df820ec7c36fd24e78": {
          "model_module": "@jupyter-widgets/controls",
          "model_name": "HTMLModel",
          "model_module_version": "1.5.0",
          "state": {
            "_dom_classes": [],
            "_model_module": "@jupyter-widgets/controls",
            "_model_module_version": "1.5.0",
            "_model_name": "HTMLModel",
            "_view_count": null,
            "_view_module": "@jupyter-widgets/controls",
            "_view_module_version": "1.5.0",
            "_view_name": "HTMLView",
            "description": "",
            "description_tooltip": null,
            "layout": "IPY_MODEL_d0461c31c1424310b1a908ec9a2a3968",
            "placeholder": "​",
            "style": "IPY_MODEL_cac336d0036b4163b71ec4efab83ada6",
            "value": " 1.42G/1.42G [00:17&lt;00:00, 113MB/s]"
          }
        },
        "3a182dc6ad1745f392abb3f755ce7da4": {
          "model_module": "@jupyter-widgets/base",
          "model_name": "LayoutModel",
          "model_module_version": "1.2.0",
          "state": {
            "_model_module": "@jupyter-widgets/base",
            "_model_module_version": "1.2.0",
            "_model_name": "LayoutModel",
            "_view_count": null,
            "_view_module": "@jupyter-widgets/base",
            "_view_module_version": "1.2.0",
            "_view_name": "LayoutView",
            "align_content": null,
            "align_items": null,
            "align_self": null,
            "border": null,
            "bottom": null,
            "display": null,
            "flex": null,
            "flex_flow": null,
            "grid_area": null,
            "grid_auto_columns": null,
            "grid_auto_flow": null,
            "grid_auto_rows": null,
            "grid_column": null,
            "grid_gap": null,
            "grid_row": null,
            "grid_template_areas": null,
            "grid_template_columns": null,
            "grid_template_rows": null,
            "height": null,
            "justify_content": null,
            "justify_items": null,
            "left": null,
            "margin": null,
            "max_height": null,
            "max_width": null,
            "min_height": null,
            "min_width": null,
            "object_fit": null,
            "object_position": null,
            "order": null,
            "overflow": null,
            "overflow_x": null,
            "overflow_y": null,
            "padding": null,
            "right": null,
            "top": null,
            "visibility": null,
            "width": null
          }
        },
        "961a0a0684d8423b821bd4610bd03765": {
          "model_module": "@jupyter-widgets/base",
          "model_name": "LayoutModel",
          "model_module_version": "1.2.0",
          "state": {
            "_model_module": "@jupyter-widgets/base",
            "_model_module_version": "1.2.0",
            "_model_name": "LayoutModel",
            "_view_count": null,
            "_view_module": "@jupyter-widgets/base",
            "_view_module_version": "1.2.0",
            "_view_name": "LayoutView",
            "align_content": null,
            "align_items": null,
            "align_self": null,
            "border": null,
            "bottom": null,
            "display": null,
            "flex": null,
            "flex_flow": null,
            "grid_area": null,
            "grid_auto_columns": null,
            "grid_auto_flow": null,
            "grid_auto_rows": null,
            "grid_column": null,
            "grid_gap": null,
            "grid_row": null,
            "grid_template_areas": null,
            "grid_template_columns": null,
            "grid_template_rows": null,
            "height": null,
            "justify_content": null,
            "justify_items": null,
            "left": null,
            "margin": null,
            "max_height": null,
            "max_width": null,
            "min_height": null,
            "min_width": null,
            "object_fit": null,
            "object_position": null,
            "order": null,
            "overflow": null,
            "overflow_x": null,
            "overflow_y": null,
            "padding": null,
            "right": null,
            "top": null,
            "visibility": null,
            "width": null
          }
        },
        "2711af35c5804655acee2fc70f10adc2": {
          "model_module": "@jupyter-widgets/controls",
          "model_name": "DescriptionStyleModel",
          "model_module_version": "1.5.0",
          "state": {
            "_model_module": "@jupyter-widgets/controls",
            "_model_module_version": "1.5.0",
            "_model_name": "DescriptionStyleModel",
            "_view_count": null,
            "_view_module": "@jupyter-widgets/base",
            "_view_module_version": "1.2.0",
            "_view_name": "StyleView",
            "description_width": ""
          }
        },
        "cb51b8020b7a4f95a4b2a5ea3214650c": {
          "model_module": "@jupyter-widgets/base",
          "model_name": "LayoutModel",
          "model_module_version": "1.2.0",
          "state": {
            "_model_module": "@jupyter-widgets/base",
            "_model_module_version": "1.2.0",
            "_model_name": "LayoutModel",
            "_view_count": null,
            "_view_module": "@jupyter-widgets/base",
            "_view_module_version": "1.2.0",
            "_view_name": "LayoutView",
            "align_content": null,
            "align_items": null,
            "align_self": null,
            "border": null,
            "bottom": null,
            "display": null,
            "flex": null,
            "flex_flow": null,
            "grid_area": null,
            "grid_auto_columns": null,
            "grid_auto_flow": null,
            "grid_auto_rows": null,
            "grid_column": null,
            "grid_gap": null,
            "grid_row": null,
            "grid_template_areas": null,
            "grid_template_columns": null,
            "grid_template_rows": null,
            "height": null,
            "justify_content": null,
            "justify_items": null,
            "left": null,
            "margin": null,
            "max_height": null,
            "max_width": null,
            "min_height": null,
            "min_width": null,
            "object_fit": null,
            "object_position": null,
            "order": null,
            "overflow": null,
            "overflow_x": null,
            "overflow_y": null,
            "padding": null,
            "right": null,
            "top": null,
            "visibility": null,
            "width": null
          }
        },
        "446beb24b68a4636b03b426c58ca6277": {
          "model_module": "@jupyter-widgets/controls",
          "model_name": "ProgressStyleModel",
          "model_module_version": "1.5.0",
          "state": {
            "_model_module": "@jupyter-widgets/controls",
            "_model_module_version": "1.5.0",
            "_model_name": "ProgressStyleModel",
            "_view_count": null,
            "_view_module": "@jupyter-widgets/base",
            "_view_module_version": "1.2.0",
            "_view_name": "StyleView",
            "bar_color": null,
            "description_width": ""
          }
        },
        "d0461c31c1424310b1a908ec9a2a3968": {
          "model_module": "@jupyter-widgets/base",
          "model_name": "LayoutModel",
          "model_module_version": "1.2.0",
          "state": {
            "_model_module": "@jupyter-widgets/base",
            "_model_module_version": "1.2.0",
            "_model_name": "LayoutModel",
            "_view_count": null,
            "_view_module": "@jupyter-widgets/base",
            "_view_module_version": "1.2.0",
            "_view_name": "LayoutView",
            "align_content": null,
            "align_items": null,
            "align_self": null,
            "border": null,
            "bottom": null,
            "display": null,
            "flex": null,
            "flex_flow": null,
            "grid_area": null,
            "grid_auto_columns": null,
            "grid_auto_flow": null,
            "grid_auto_rows": null,
            "grid_column": null,
            "grid_gap": null,
            "grid_row": null,
            "grid_template_areas": null,
            "grid_template_columns": null,
            "grid_template_rows": null,
            "height": null,
            "justify_content": null,
            "justify_items": null,
            "left": null,
            "margin": null,
            "max_height": null,
            "max_width": null,
            "min_height": null,
            "min_width": null,
            "object_fit": null,
            "object_position": null,
            "order": null,
            "overflow": null,
            "overflow_x": null,
            "overflow_y": null,
            "padding": null,
            "right": null,
            "top": null,
            "visibility": null,
            "width": null
          }
        },
        "cac336d0036b4163b71ec4efab83ada6": {
          "model_module": "@jupyter-widgets/controls",
          "model_name": "DescriptionStyleModel",
          "model_module_version": "1.5.0",
          "state": {
            "_model_module": "@jupyter-widgets/controls",
            "_model_module_version": "1.5.0",
            "_model_name": "DescriptionStyleModel",
            "_view_count": null,
            "_view_module": "@jupyter-widgets/base",
            "_view_module_version": "1.2.0",
            "_view_name": "StyleView",
            "description_width": ""
          }
        }
      }
    }
  },
  "cells": [
    {
      "cell_type": "markdown",
      "source": [
        "# Решение задачи:"
      ],
      "metadata": {
        "id": "uvo-KgkUSaEK"
      }
    },
    {
      "cell_type": "markdown",
      "source": [
        "Установка необходимых пакетов:"
      ],
      "metadata": {
        "id": "hYup9N_kSbs1"
      }
    },
    {
      "cell_type": "code",
      "source": [
        "!pip install emoji==1.4.1\n",
        "!pip install imblearn"
      ],
      "metadata": {
        "id": "nBJfFV5PSb6f",
        "colab": {
          "base_uri": "https://localhost:8080/"
        },
        "outputId": "ce96af06-cd13-42a1-f264-96e8eb49eb78"
      },
      "execution_count": null,
      "outputs": [
        {
          "output_type": "stream",
          "name": "stdout",
          "text": [
            "Collecting emoji==1.4.1\n",
            "  Downloading emoji-1.4.1.tar.gz (185 kB)\n",
            "\u001b[?25l     \u001b[90m━━━━━━━━━━━━━━━━━━━━━━━━━━━━━━━━━━━━━━━━\u001b[0m \u001b[32m0.0/185.1 kB\u001b[0m \u001b[31m?\u001b[0m eta \u001b[36m-:--:--\u001b[0m\r\u001b[2K     \u001b[90m━━━━━━━━━━━━━━━━━━━━━━━━━━━━━━━━━━━━━━━\u001b[0m \u001b[32m185.1/185.1 kB\u001b[0m \u001b[31m6.7 MB/s\u001b[0m eta \u001b[36m0:00:00\u001b[0m\n",
            "\u001b[?25h  Preparing metadata (setup.py) ... \u001b[?25l\u001b[?25hdone\n",
            "Building wheels for collected packages: emoji\n",
            "  Building wheel for emoji (setup.py) ... \u001b[?25l\u001b[?25hdone\n",
            "  Created wheel for emoji: filename=emoji-1.4.1-py3-none-any.whl size=186377 sha256=2f02f560a10df93fc2797aa8a64b9500742ffe4bc3eba05b66ab3137fef05500\n",
            "  Stored in directory: /root/.cache/pip/wheels/0d/44/17/320330a9e12226b713b36d3a308259428576bc23ca5ff7d1b3\n",
            "Successfully built emoji\n",
            "Installing collected packages: emoji\n",
            "Successfully installed emoji-1.4.1\n",
            "Collecting imblearn\n",
            "  Downloading imblearn-0.0-py2.py3-none-any.whl.metadata (355 bytes)\n",
            "Requirement already satisfied: imbalanced-learn in /usr/local/lib/python3.12/dist-packages (from imblearn) (0.14.0)\n",
            "Requirement already satisfied: numpy<3,>=1.25.2 in /usr/local/lib/python3.12/dist-packages (from imbalanced-learn->imblearn) (2.0.2)\n",
            "Requirement already satisfied: scipy<2,>=1.11.4 in /usr/local/lib/python3.12/dist-packages (from imbalanced-learn->imblearn) (1.16.1)\n",
            "Requirement already satisfied: scikit-learn<2,>=1.4.2 in /usr/local/lib/python3.12/dist-packages (from imbalanced-learn->imblearn) (1.6.1)\n",
            "Requirement already satisfied: joblib<2,>=1.2.0 in /usr/local/lib/python3.12/dist-packages (from imbalanced-learn->imblearn) (1.5.2)\n",
            "Requirement already satisfied: threadpoolctl<4,>=2.0.0 in /usr/local/lib/python3.12/dist-packages (from imbalanced-learn->imblearn) (3.6.0)\n",
            "Downloading imblearn-0.0-py2.py3-none-any.whl (1.9 kB)\n",
            "Installing collected packages: imblearn\n",
            "Successfully installed imblearn-0.0\n"
          ]
        }
      ]
    },
    {
      "cell_type": "markdown",
      "source": [
        "Импорт библиотек:"
      ],
      "metadata": {
        "id": "nVJKipPXB--o"
      }
    },
    {
      "cell_type": "code",
      "source": [
        "import numpy as np  # Для массивов и случайных чисел\n",
        "import pandas as pd  # Для DataFrame (удобная обработка данных)\n",
        "import re  # Регулярные выражения для очистки текста\n",
        "import string  # Пунктуация для очистки\n",
        "import emoji  # Удаление эмодзи (опционально)\n",
        "import warnings  # Подавление предупреждений\n",
        "import matplotlib.pyplot as plt  # Графики\n",
        "import seaborn as sns  # Heatmap и визуализации\n",
        "from datasets import load_dataset  # Загрузка датасета с Hugging Face\n",
        "from sklearn.model_selection import train_test_split  # Разделение на train/valid\n",
        "from sklearn.metrics import accuracy_score, f1_score, classification_report, confusion_matrix  # Метрики\n",
        "from imblearn.over_sampling import RandomOverSampler  # Балансировка классов\n",
        "from sklearn import preprocessing  # OneHotEncoder\n",
        "from transformers import RobertaTokenizerFast, TFRobertaModel  # ruRoberta-large\n",
        "import tensorflow as tf  # TensorFlow для fine-tuning\n",
        "from tensorflow import keras  # Keras API\n",
        "\n",
        "# Воспроизводимость\n",
        "seed = 42\n",
        "np.random.seed(seed)\n",
        "tf.random.set_seed(seed)\n",
        "\n",
        "# Настройка графиков\n",
        "sns.set_style(\"whitegrid\")\n",
        "sns.despine()\n",
        "plt.rc(\"figure\", autolayout=True)\n",
        "plt.rc(\"axes\", labelweight=\"bold\", labelsize=\"large\", titleweight=\"bold\", titlepad=10)\n",
        "\n",
        "# Отключение предупреждений\n",
        "warnings.filterwarnings(\"ignore\")"
      ],
      "metadata": {
        "colab": {
          "base_uri": "https://localhost:8080/",
          "height": 34
        },
        "id": "eBdg0O8sB_Lh",
        "outputId": "b59c6ff8-af75-4e6e-e5ef-8ed04f33d4b3"
      },
      "execution_count": null,
      "outputs": [
        {
          "output_type": "display_data",
          "data": {
            "text/plain": [
              "<Figure size 640x480 with 0 Axes>"
            ]
          },
          "metadata": {}
        }
      ]
    },
    {
      "cell_type": "markdown",
      "source": [
        "Укажем все классы из датасета:"
      ],
      "metadata": {
        "id": "zZlsaeoyCBd3"
      }
    },
    {
      "cell_type": "code",
      "source": [
        "all_label_names = ['climate', 'conflicts', 'culture', 'economy', 'gloss', 'health', 'politics', 'science', 'society', 'sports', 'travel']"
      ],
      "metadata": {
        "id": "bzjRiatYRoww"
      },
      "execution_count": null,
      "outputs": []
    },
    {
      "cell_type": "markdown",
      "source": [
        "Определим функцию для матрицы ошибок и функцию для графика распределения классов:"
      ],
      "metadata": {
        "id": "SwpFI7K4RqA1"
      }
    },
    {
      "cell_type": "code",
      "source": [
        "# Функция для confusion matrix\n",
        "def conf_matrix(y, y_pred, title, labels):\n",
        "    fig, ax = plt.subplots(figsize=(8, 6))\n",
        "    ax = sns.heatmap(confusion_matrix(y, y_pred), annot=True, cmap=\"Blues\", fmt='g', cbar=False, annot_kws={\"size\": 12})\n",
        "    plt.title(title, fontsize=20)\n",
        "    ax.xaxis.set_ticklabels(labels, fontsize=12, rotation=45)\n",
        "    ax.yaxis.set_ticklabels(labels, fontsize=12, rotation=0)\n",
        "    ax.set_ylabel('Тест', fontsize=20)\n",
        "    ax.set_xlabel('Предсказание', fontsize=20)\n",
        "    plt.tight_layout()\n",
        "    plt.show()\n",
        "\n",
        "# Функция для графика распределения классов\n",
        "def plot_class_distribution(df, labels, title):\n",
        "    plt.figure(figsize=(8, 5))\n",
        "    ax = sns.countplot(x='labels', data=df, palette='mako')\n",
        "    plt.title(title, fontsize=20)\n",
        "    ax.set_xticklabels(labels, rotation=45)\n",
        "    ax.bar_label(ax.containers[0])\n",
        "    plt.ylabel('Число примеров', fontsize=15)\n",
        "    plt.xlabel('Класс', fontsize=15)\n",
        "    plt.show()"
      ],
      "metadata": {
        "id": "udoeKXDpCBoQ"
      },
      "execution_count": null,
      "outputs": []
    },
    {
      "cell_type": "markdown",
      "source": [
        "Загрузим датасет:"
      ],
      "metadata": {
        "id": "IDAdvOWHH55h"
      }
    },
    {
      "cell_type": "code",
      "source": [
        "dataset = load_dataset(\"data-silence/rus_news_classifier\")"
      ],
      "metadata": {
        "colab": {
          "base_uri": "https://localhost:8080/",
          "height": 177,
          "referenced_widgets": [
            "fa2d54403ad74e7885cc4ed44e0360dd",
            "c405f2e1551547cea5da960d9a7ddd7e",
            "cc35bd6164cc46fd9188fbb7999fcdcb",
            "8d4af184f4e0493683ef4b3f586139c5",
            "996acced293341d9ad65a311b1d21d40",
            "49b20fe8d7b548cca47c3fd8b28a966c",
            "290e54b8d5e0466daaf10fa69f47fa61",
            "2f121721842e4ea18cb48648d84bfdc6",
            "24dc5b6ccf2f46649bc2e0dc2f8ee490",
            "f7e616978197414ebcc0d8e4b895fd05",
            "1455267829aa42a8a312cbff5444e1c3",
            "a5b618eb02d8445c8464ece8f297ca18",
            "45e0877286cf44d6a64337e90793bc80",
            "ed55da6022c54db9883c345a6282c85f",
            "4618da1c29c44789a846502a2e394e29",
            "9c598c7c150d4c5285d10fef07b1283d",
            "a76d84051d98477a88e73df5e46e6c55",
            "ec824661b5954eccbc384f160e8a6ec5",
            "a29c0406591f44bc897b2fba79c406de",
            "1c59aa05d064494195409b43d6538f0c",
            "7a1fd4d70e854b83bb0875514b4d3ad3",
            "2873f8bd946d4da1939872d9bbbe1daf",
            "aac925b0a9a64250aea3bce7032f6e63",
            "3b6c49469658440681a9530e96e691b0",
            "987c3f164edb407ea53711f332582c28",
            "75f1f847be134dbfa99b1b8364aa9201",
            "f8a884e745b6497fbfdb5074b5810429",
            "89371e62c92844c3852589c7eceb781f",
            "55a2305ff7db4c5ca3fd5e2dfe0116c3",
            "fd65f9f6174646cbab6f6dafaba4da92",
            "f7c5224239ca4d3e891b8256950dc15b",
            "6e8f19787c32494c9684d91fe20cea2d",
            "ba15b5ded7df4b3ca6724a981aa916e5",
            "81b9df54b4b54b3fbedb05503e4757a5",
            "ba90788719254199bba59148b33ce1c3",
            "dd1d2f82de374cc6a9e57e311ab5e9d1",
            "0c9b58f992f048219ba0ce5c5c3fd2a9",
            "bddde8b756374bc5af290b4bf8bca0eb",
            "95eb1a703ec543699ea404ca74f8b7c1",
            "0eaeeab9930045239052c3a2b2db0e2d",
            "e2f4a3153e6245f588d0280c3c8895f4",
            "ff3ee808ca874982bfe3892337a0b6ab",
            "8eab23ce2779470fbf1f334411b9881b",
            "868476ebb8dd44daa5a4942e812ee6f8",
            "58d63e2ad4fc41f386bed2ff2ae6878d",
            "76f80dc0c38d41d9a9a27a71dbb4b579",
            "231081003f604e12a2d08dc42c676971",
            "8c4863ffadcd469090396e0b5b7fc2fb",
            "9990659ffefd4aa493ebe0a2e38a2a9d",
            "f4390684f5894f7794c79e2b7c2b6eed",
            "c79e6b9f625f4d4a93565246fa468dab",
            "0e3b52a260384334862256d0cae632d9",
            "2fd2555c2b9045baae983a7e83af8735",
            "f96b20d0985f4d07a4b651705127a741",
            "84028bad76714a2baf5ba7bb1a2e2520"
          ]
        },
        "id": "end1R1ZlJIJ3",
        "outputId": "1f1509d5-c029-4fe0-8292-c47988a7e9a6"
      },
      "execution_count": null,
      "outputs": [
        {
          "output_type": "display_data",
          "data": {
            "text/plain": [
              "README.md: 0.00B [00:00, ?B/s]"
            ],
            "application/vnd.jupyter.widget-view+json": {
              "version_major": 2,
              "version_minor": 0,
              "model_id": "fa2d54403ad74e7885cc4ed44e0360dd"
            }
          },
          "metadata": {}
        },
        {
          "output_type": "display_data",
          "data": {
            "text/plain": [
              "data/train-00000-of-00001.parquet:   0%|          | 0.00/69.1M [00:00<?, ?B/s]"
            ],
            "application/vnd.jupyter.widget-view+json": {
              "version_major": 2,
              "version_minor": 0,
              "model_id": "a5b618eb02d8445c8464ece8f297ca18"
            }
          },
          "metadata": {}
        },
        {
          "output_type": "display_data",
          "data": {
            "text/plain": [
              "data/test-00000-of-00001.parquet:   0%|          | 0.00/17.3M [00:00<?, ?B/s]"
            ],
            "application/vnd.jupyter.widget-view+json": {
              "version_major": 2,
              "version_minor": 0,
              "model_id": "aac925b0a9a64250aea3bce7032f6e63"
            }
          },
          "metadata": {}
        },
        {
          "output_type": "display_data",
          "data": {
            "text/plain": [
              "Generating train split:   0%|          | 0/57530 [00:00<?, ? examples/s]"
            ],
            "application/vnd.jupyter.widget-view+json": {
              "version_major": 2,
              "version_minor": 0,
              "model_id": "81b9df54b4b54b3fbedb05503e4757a5"
            }
          },
          "metadata": {}
        },
        {
          "output_type": "display_data",
          "data": {
            "text/plain": [
              "Generating test split:   0%|          | 0/14383 [00:00<?, ? examples/s]"
            ],
            "application/vnd.jupyter.widget-view+json": {
              "version_major": 2,
              "version_minor": 0,
              "model_id": "58d63e2ad4fc41f386bed2ff2ae6878d"
            }
          },
          "metadata": {}
        }
      ]
    },
    {
      "cell_type": "markdown",
      "source": [
        "Определим колонки датасета:"
      ],
      "metadata": {
        "id": "5iiZBWH5WGqT"
      }
    },
    {
      "cell_type": "code",
      "source": [
        "print(\"Колонки датасета:\")\n",
        "print(dataset['train'].column_names)  # ['news', 'labels']"
      ],
      "metadata": {
        "colab": {
          "base_uri": "https://localhost:8080/"
        },
        "id": "6rGNNYqiWG2A",
        "outputId": "b65d3019-3512-422b-f3da-7ea59d9eaa9f"
      },
      "execution_count": null,
      "outputs": [
        {
          "output_type": "stream",
          "name": "stdout",
          "text": [
            "Колонки датасета:\n",
            "['news', 'labels']\n"
          ]
        }
      ]
    },
    {
      "cell_type": "markdown",
      "source": [
        "Выберем 5 классов и определим их индексы:"
      ],
      "metadata": {
        "id": "5c8G6ALXWJIW"
      }
    },
    {
      "cell_type": "code",
      "source": [
        "# Фильтрация по 5 классам\n",
        "selected_classes = {'health': 5, 'science': 7, 'society': 8, 'sports': 9, 'travel': 10}\n",
        "selected_label_names = ['health', 'science', 'society', 'sports', 'travel']\n",
        "num_classes = len(selected_label_names)\n",
        "print(f\"Выбранные классы (индексы): {selected_classes}\")"
      ],
      "metadata": {
        "colab": {
          "base_uri": "https://localhost:8080/"
        },
        "id": "-pXiWf-iWJUZ",
        "outputId": "823384c8-51da-4f65-8875-b47ae5ac66d8"
      },
      "execution_count": null,
      "outputs": [
        {
          "output_type": "stream",
          "name": "stdout",
          "text": [
            "Выбранные классы (индексы): {'health': 5, 'science': 7, 'society': 8, 'sports': 9, 'travel': 10}\n"
          ]
        }
      ]
    },
    {
      "cell_type": "markdown",
      "source": [
        "Этот код определяет функцию `filter_classes`, которая оставляет только примеры из датасета, чьи метки `labels` соответствуют заданным классам в `selected_classes`, а затем применяет эту фильтрацию к датасету, создавая `filtered_dataset`:"
      ],
      "metadata": {
        "id": "FdznrlzPWUJA"
      }
    },
    {
      "cell_type": "code",
      "source": [
        "def filter_classes(example):\n",
        "    return example['labels'] in selected_classes.values()\n",
        "\n",
        "filtered_dataset = dataset.filter(filter_classes)"
      ],
      "metadata": {
        "colab": {
          "base_uri": "https://localhost:8080/",
          "height": 81,
          "referenced_widgets": [
            "38dd8f20c15b48e29936d650893da7df",
            "13421d9a1d714cc58c086695c11d7f33",
            "a994b6cc5d2c43d685e21f211ce9591e",
            "51ae39e667b14b95ba7068afb91cdf46",
            "ebc8bd20926a41e9b4caa42aff167c59",
            "c4168c74efad4297a65e8a632cb76ff2",
            "d3cb171980b5497fa356e470636c8d42",
            "f93daa06cdc9403badd5090dadc11977",
            "401987477c23471bb659804b4eeb35d7",
            "29177908fced4393ace92a8a65b92ead",
            "7b6447d480f24185a655306d539befbf",
            "97c877ad9fd04ece9e472ddff40c846e",
            "dd825322c5b7423798244203a68e3db8",
            "5e6e917e3e634eb7808af4c46ce100bc",
            "7120b13c33824f25aebae47605593d25",
            "27798bbe77b54bd6a166640d4d021cb9",
            "25b11a90e1f1499793996abef718cebb",
            "72cfc0504d224b9692e6637058cc751d",
            "ec6eb716795b457d993b6567b0b38c60",
            "78ed4a203b684ffea96a1ead1b02537a",
            "6cc900bdc37747c8afdbb9986d3fa860",
            "7d03a9d40e2a40788341a97f830d30d8"
          ]
        },
        "id": "blbd_6f9WUVi",
        "outputId": "74c9e875-b1e8-425e-a23b-fcac65e43f7a"
      },
      "execution_count": null,
      "outputs": [
        {
          "output_type": "display_data",
          "data": {
            "text/plain": [
              "Filter:   0%|          | 0/57530 [00:00<?, ? examples/s]"
            ],
            "application/vnd.jupyter.widget-view+json": {
              "version_major": 2,
              "version_minor": 0,
              "model_id": "38dd8f20c15b48e29936d650893da7df"
            }
          },
          "metadata": {}
        },
        {
          "output_type": "display_data",
          "data": {
            "text/plain": [
              "Filter:   0%|          | 0/14383 [00:00<?, ? examples/s]"
            ],
            "application/vnd.jupyter.widget-view+json": {
              "version_major": 2,
              "version_minor": 0,
              "model_id": "97c877ad9fd04ece9e472ddff40c846e"
            }
          },
          "metadata": {}
        }
      ]
    },
    {
      "cell_type": "markdown",
      "source": [
        "Этот код конвертирует отфильтрованные данные из датасета `filtered_dataset` в pandas DataFrame, создавая `df_train` из тренировочного набора и `df_test` из тестового набора:"
      ],
      "metadata": {
        "id": "dgbX0Yjij6mU"
      }
    },
    {
      "cell_type": "code",
      "source": [
        "df_train = pd.DataFrame(filtered_dataset['train'])\n",
        "df_test = pd.DataFrame(filtered_dataset['test'])"
      ],
      "metadata": {
        "id": "Nx1ljAvlj6vw"
      },
      "execution_count": null,
      "outputs": []
    },
    {
      "cell_type": "markdown",
      "source": [
        "Ознакомимся с более поодробной информацией о датасете и данных в нем:"
      ],
      "metadata": {
        "id": "vN9GhqDbj8WF"
      }
    },
    {
      "cell_type": "code",
      "source": [
        "print(\"\\nКолонки df_train:\")\n",
        "print(df_train.columns.tolist())\n",
        "\n",
        "print(\"\\nИнформация о df_train:\")\n",
        "print(df_train.info())\n",
        "print(\"\\nПервые 5 строк df_train:\")\n",
        "print(df_train.head())\n",
        "\n",
        "print(f\"\\nФорма обучающей выборки: {df_train.shape}\")\n",
        "print(f\"Форма тестовой выборки: {df_test.shape}\")"
      ],
      "metadata": {
        "colab": {
          "base_uri": "https://localhost:8080/"
        },
        "id": "t305nhXCj8lN",
        "outputId": "5b674cf7-a782-4831-cf6a-53c6b06591f2"
      },
      "execution_count": null,
      "outputs": [
        {
          "output_type": "stream",
          "name": "stdout",
          "text": [
            "\n",
            "Колонки df_train:\n",
            "['news', 'labels']\n",
            "\n",
            "Информация о df_train:\n",
            "<class 'pandas.core.frame.DataFrame'>\n",
            "RangeIndex: 23781 entries, 0 to 23780\n",
            "Data columns (total 2 columns):\n",
            " #   Column  Non-Null Count  Dtype \n",
            "---  ------  --------------  ----- \n",
            " 0   news    23781 non-null  object\n",
            " 1   labels  23781 non-null  int64 \n",
            "dtypes: int64(1), object(1)\n",
            "memory usage: 371.7+ KB\n",
            "None\n",
            "\n",
            "Первые 5 строк df_train:\n",
            "                                                news  labels\n",
            "0  В 2021 году Microsoft выпустит специальную вер...       7\n",
            "1  Британский боксер-тяжеловес Тайсон Фьюри оскор...       9\n",
            "2  Нидерландская компания U-Boat Worx представила...       7\n",
            "3  Собор Святого Марка, построенный в IX веке в В...       8\n",
            "4  Компания Xiaomi до конца осени может начать оф...       7\n",
            "\n",
            "Форма обучающей выборки: (23781, 2)\n",
            "Форма тестовой выборки: (5947, 2)\n"
          ]
        }
      ]
    },
    {
      "cell_type": "markdown",
      "source": [
        "Посмотрим с помощью графика распределение классов до обработки:"
      ],
      "metadata": {
        "id": "lcFz-yLIj-mf"
      }
    },
    {
      "cell_type": "code",
      "source": [
        "# Распределение классов\n",
        "print(\"\\nРаспределение классов в train (до обработки):\")\n",
        "print(df_train['labels'].value_counts().sort_index())\n",
        "plot_class_distribution(df_train, selected_label_names, \"Распределение классов (train, до обработки)\")"
      ],
      "metadata": {
        "colab": {
          "base_uri": "https://localhost:8080/",
          "height": 663
        },
        "id": "PaprCehWj-xr",
        "outputId": "fc57c2a0-0679-47ec-bdc3-a2b39f6df023"
      },
      "execution_count": null,
      "outputs": [
        {
          "output_type": "stream",
          "name": "stdout",
          "text": [
            "\n",
            "Распределение классов в train (до обработки):\n",
            "labels\n",
            "5     4931\n",
            "7     5406\n",
            "8     4937\n",
            "9     4791\n",
            "10    3716\n",
            "Name: count, dtype: int64\n"
          ]
        },
        {
          "output_type": "display_data",
          "data": {
            "text/plain": [
              "<Figure size 800x500 with 1 Axes>"
            ],
            "image/png": "[encoded data removed]"
          },
          "metadata": {}
        }
      ]
    },
    {
      "cell_type": "markdown",
      "source": [
        "Удаление дубликатов:"
      ],
      "metadata": {
        "id": "Rseft-ZqkCJt"
      }
    },
    {
      "cell_type": "code",
      "source": [
        "df_train.drop_duplicates(subset='news', inplace=True)\n",
        "df_test.drop_duplicates(subset='news', inplace=True)\n",
        "print(f\"\\nПосле удаления дубликатов: train={df_train.shape}, test={df_test.shape}\")"
      ],
      "metadata": {
        "colab": {
          "base_uri": "https://localhost:8080/"
        },
        "id": "mfyuEQp3kCS6",
        "outputId": "752a8f2a-a603-4eb6-f2d5-f6f55d04377e"
      },
      "execution_count": null,
      "outputs": [
        {
          "output_type": "stream",
          "name": "stdout",
          "text": [
            "\n",
            "После удаления дубликатов: train=(23705, 2), test=(5939, 2)\n"
          ]
        }
      ]
    },
    {
      "cell_type": "markdown",
      "source": [
        "Определим ряд функций для мягкой предобработки данных в датасете:"
      ],
      "metadata": {
        "id": "5xqLFcTZoSoE"
      }
    },
    {
      "cell_type": "code",
      "source": [
        "# Мягкая предобработка\n",
        "def strip_emoji(text):\n",
        "    \"\"\"Удаляет эмодзи.\"\"\"\n",
        "    return re.sub(emoji.get_emoji_regexp(), r\"\", text)\n",
        "\n",
        "def strip_links_mentions(text):\n",
        "    \"\"\"Удаление ссылок и упоминаний.\"\"\"\n",
        "    text = re.sub(r\"(?:\\@|https?\\://)\\S+\", \"\", text)\n",
        "    return text\n",
        "\n",
        "def remove_mult_spaces(text):\n",
        "    \"\"\"Удаление множественных пробелов.\"\"\"\n",
        "    text = re.sub(r'\\s+', ' ', text).strip()\n",
        "    return text\n",
        "\n",
        "def clean_text(text):\n",
        "    \"\"\"Мягкая очистка: эмодзи, ссылки, пробелы; кириллица сохранена.\"\"\"\n",
        "    text = strip_emoji(text)\n",
        "    text = strip_links_mentions(text)\n",
        "    text = remove_mult_spaces(text)\n",
        "    return text.lower()"
      ],
      "metadata": {
        "id": "KY6A4rV_oSzM"
      },
      "execution_count": null,
      "outputs": []
    },
    {
      "cell_type": "markdown",
      "source": [
        "Применение функций к датасетам:"
      ],
      "metadata": {
        "id": "a9SrzSGJoVEf"
      }
    },
    {
      "cell_type": "code",
      "source": [
        "df_train['text_clean'] = df_train['news'].apply(clean_text)\n",
        "df_test['text_clean'] = df_test['news'].apply(clean_text)"
      ],
      "metadata": {
        "id": "MJfTY3pZoyF-"
      },
      "execution_count": null,
      "outputs": []
    },
    {
      "cell_type": "markdown",
      "source": [
        "Пример очистки:"
      ],
      "metadata": {
        "id": "tibh1cLmo1j4"
      }
    },
    {
      "cell_type": "code",
      "source": [
        "print(\"\\nПример до/после очистки (первый текст):\")\n",
        "print(\"Оригинал:\", df_train['news'].iloc[0][:200] + \"...\")\n",
        "print(\"Очищенный:\", df_train['text_clean'].iloc[0][:200] + \"...\")"
      ],
      "metadata": {
        "colab": {
          "base_uri": "https://localhost:8080/"
        },
        "id": "oxSqpS-io1vA",
        "outputId": "086a6fef-36c5-4ceb-dc51-a1cf7ebf36f8"
      },
      "execution_count": null,
      "outputs": [
        {
          "output_type": "stream",
          "name": "stdout",
          "text": [
            "\n",
            "Пример до/после очистки (первый текст):\n",
            "Оригинал: В 2021 году Microsoft выпустит специальную версию Windows для бюджетных компьютеров. Об этом сообщает издание Windows Latest. Журналисты выяснили, что операционная система для ПК с двумя экранами — Wi...\n",
            "Очищенный: в 2021 году microsoft выпустит специальную версию windows для бюджетных компьютеров. об этом сообщает издание windows latest. журналисты выяснили, что операционная система для пк с двумя экранами — wi...\n"
          ]
        }
      ]
    },
    {
      "cell_type": "markdown",
      "source": [
        "Фильтрация коротких текстов (>4 слов) и вывод статистики:"
      ],
      "metadata": {
        "id": "jHoNBaRgo5GY"
      }
    },
    {
      "cell_type": "code",
      "source": [
        "df_train['text_len'] = df_train['text_clean'].apply(lambda x: len(x.split()))\n",
        "df_test['text_len'] = df_test['text_clean'].apply(lambda x: len(x.split()))\n",
        "\n",
        "print(\"\\nСтатистика по длине текстов (train):\")\n",
        "print(df_train['text_len'].describe())"
      ],
      "metadata": {
        "colab": {
          "base_uri": "https://localhost:8080/"
        },
        "id": "dmiD8W9Ko5SN",
        "outputId": "b9b13a97-5c4d-4456-cd1d-221dc4e579c2"
      },
      "execution_count": null,
      "outputs": [
        {
          "output_type": "stream",
          "name": "stdout",
          "text": [
            "\n",
            "Статистика по длине текстов (train):\n",
            "count    23705.000000\n",
            "mean       172.487239\n",
            "std         67.215416\n",
            "min         10.000000\n",
            "25%        130.000000\n",
            "50%        163.000000\n",
            "75%        201.000000\n",
            "max       1292.000000\n",
            "Name: text_len, dtype: float64\n"
          ]
        }
      ]
    },
    {
      "cell_type": "markdown",
      "source": [
        "Статистика после фильтрации:"
      ],
      "metadata": {
        "id": "HlF60Sj-o8LC"
      }
    },
    {
      "cell_type": "code",
      "source": [
        "df_train = df_train[df_train['text_len'] > 4]\n",
        "df_test = df_test[df_test['text_len'] > 4]\n",
        "print(f\"\\nПосле фильтра (>4 слов): train={df_train.shape}, test={df_test.shape}\")"
      ],
      "metadata": {
        "colab": {
          "base_uri": "https://localhost:8080/"
        },
        "id": "tYK38Awxo_T6",
        "outputId": "fe034a6f-0b14-465f-8ac8-60c354c1e332"
      },
      "execution_count": null,
      "outputs": [
        {
          "output_type": "stream",
          "name": "stdout",
          "text": [
            "\n",
            "После фильтра (>4 слов): train=(23705, 4), test=(5939, 4)\n"
          ]
        }
      ]
    },
    {
      "cell_type": "markdown",
      "source": [
        "Определим модель и токенизацию:"
      ],
      "metadata": {
        "id": "AQBiQstipAcR"
      }
    },
    {
      "cell_type": "code",
      "source": [
        "model_name = \"ai-forever/ruRoberta-large\"\n",
        "tokenizer = RobertaTokenizerFast.from_pretrained(model_name)"
      ],
      "metadata": {
        "colab": {
          "base_uri": "https://localhost:8080/",
          "height": 113,
          "referenced_widgets": [
            "2d5647141cf04443b934aeaa05a75ec3",
            "72724ca2e3954b8fa68f4e5bc86efccd",
            "ee33720b9b1443a0a05b522d4c585b81",
            "ec86ebc1696e43809226fd3c6f088c08",
            "aa9e88f0cb5f48dc951a23518cd82bd1",
            "4acfc52cc0464ae3a850d83d498f4d8d",
            "a9f9ea6f261848e5a0185f6075d66d72",
            "045ab341c6f7423480e5b4f84e2840ff",
            "8c15312b560d4301b0d4dba79068b5b0",
            "d738dc5274a2483c956d0342e3df2144",
            "688a1729ded34ba0a7714fb8738ba20a",
            "602ad23ac83746ebbbe848fc7e94ca84",
            "e1dff25c18ca4a86b68f7c83967b1603",
            "3ef9bc6f289349f99b5a56f6a1b52131",
            "10767c031907448c993166ff47816459",
            "54329b0b7a704c8980fc56de00d2dc11",
            "0c0a4486fabf41ca971f535cf495ff54",
            "aba7c22e31db46fa9fb6231883398546",
            "6dea1a5d023e42b79e7ec4257db39306",
            "c8685438bda6459994917e3bcfe41b00",
            "4e28fa2008d044e0b5190ce6fa9c1736",
            "b4690ef22e9c47f994a869cc5689c45a",
            "6122d67e65fe45eead337c853ed291d2",
            "5e502996b56b470ca63fbdc78a0c9cb8",
            "45030afc152144108a98996f22912b07",
            "77380d0341054e7ebfa87718d02e4ff2",
            "74a5442bc1674465a6bb184f6905cb84",
            "6322947ad9824ee893f17901e88e4205",
            "7f2700d3eb9f4e429cdccf690f2b491a",
            "efe904b7d929406baae55e93c2d57a65",
            "bea4d7a4b9c740a3993abddcaeb99519",
            "be0f5453397d4ea0845ad6aa63fdaf6a",
            "25aededa07f34c84bb5e3db858b73d29"
          ]
        },
        "id": "W995bU07pAxq",
        "outputId": "34022329-7128-4dad-ac9e-b9b8a80c112e"
      },
      "execution_count": null,
      "outputs": [
        {
          "output_type": "display_data",
          "data": {
            "text/plain": [
              "vocab.json: 0.00B [00:00, ?B/s]"
            ],
            "application/vnd.jupyter.widget-view+json": {
              "version_major": 2,
              "version_minor": 0,
              "model_id": "2d5647141cf04443b934aeaa05a75ec3"
            }
          },
          "metadata": {}
        },
        {
          "output_type": "display_data",
          "data": {
            "text/plain": [
              "merges.txt: 0.00B [00:00, ?B/s]"
            ],
            "application/vnd.jupyter.widget-view+json": {
              "version_major": 2,
              "version_minor": 0,
              "model_id": "602ad23ac83746ebbbe848fc7e94ca84"
            }
          },
          "metadata": {}
        },
        {
          "output_type": "display_data",
          "data": {
            "text/plain": [
              "config.json:   0%|          | 0.00/674 [00:00<?, ?B/s]"
            ],
            "application/vnd.jupyter.widget-view+json": {
              "version_major": 2,
              "version_minor": 0,
              "model_id": "6122d67e65fe45eead337c853ed291d2"
            }
          },
          "metadata": {}
        }
      ]
    },
    {
      "cell_type": "markdown",
      "source": [
        "Этот код определяет функцию `get_token_lens`, которая анализирует длину токенов для первых 1000 текстов из данных с использованием заданного токенизатора, сохраняя длины токенов и отмечая аномалии (outliers) длиной более 128 токенов, при этом выводя первые три аномалии, если они есть. Затем функция применяется к очищенным текстовым данным тренировочного набора `df_train['text_clean']`, результат сохраняется в `token_lens_train`, и выводится средняя и максимальная длина токенов для анализа:"
      ],
      "metadata": {
        "id": "31idS7abpDQK"
      }
    },
    {
      "cell_type": "code",
      "source": [
        "def get_token_lens(data, tokenizer, max_check=1000):  # Проверяем первые 1000 для скорости\n",
        "    token_lens = []\n",
        "    outliers = []\n",
        "    for i, txt in enumerate(data[:max_check]):\n",
        "        tokens = tokenizer.encode(txt, max_length=512, truncation=True)\n",
        "        token_lens.append(len(tokens))\n",
        "        if len(tokens) > 128:  # Мягче, для новостей\n",
        "            outliers.append((i, txt[:100], len(tokens)))\n",
        "    if outliers:\n",
        "        print(\"Outliers (>128 токенов):\", outliers[:3])  # Показать первые 3\n",
        "    return token_lens\n",
        "\n",
        "token_lens_train = get_token_lens(df_train['text_clean'], tokenizer)\n",
        "print(f\"\\nСредняя длина токенов (train): {np.mean(token_lens_train):.1f}, макс: {max(token_lens_train)}\")"
      ],
      "metadata": {
        "colab": {
          "base_uri": "https://localhost:8080/"
        },
        "id": "5K-vFfLTpDhr",
        "outputId": "dd3b441f-a43c-4ff4-cb68-f51e07444bfb"
      },
      "execution_count": null,
      "outputs": [
        {
          "output_type": "stream",
          "name": "stdout",
          "text": [
            "Outliers (>128 токенов): [(0, 'в 2021 году microsoft выпустит специальную версию windows для бюджетных компьютеров. об этом сообщае', 351), (1, 'британский боксер-тяжеловес тайсон фьюри оскорбил украинца александра усика. его слова приводит dail', 205), (2, 'нидерландская компания u-boat worx представила частную субмарину super sub, развивающую скорость до ', 285)]\n",
            "\n",
            "Средняя длина токенов (train): 270.4, макс: 512\n"
          ]
        }
      ]
    },
    {
      "cell_type": "markdown",
      "source": [
        "График распределения длины токенов:"
      ],
      "metadata": {
        "id": "982C-gsypEEM"
      }
    },
    {
      "cell_type": "code",
      "source": [
        "plt.figure(figsize=(8, 5))\n",
        "sns.histplot(token_lens_train, bins=50)\n",
        "plt.title('Распределение длины токенов (train)', fontsize=20)\n",
        "plt.xlabel('Длина токенов')\n",
        "plt.ylabel('Число текстов')\n",
        "plt.show()"
      ],
      "metadata": {
        "colab": {
          "base_uri": "https://localhost:8080/",
          "height": 507
        },
        "id": "0MebdBRopEPy",
        "outputId": "7d680ba1-2d9c-4858-e72d-e719bfd5b5b8"
      },
      "execution_count": null,
      "outputs": [
        {
          "output_type": "display_data",
          "data": {
            "text/plain": [
              "<Figure size 800x500 with 1 Axes>"
            ],
            "image/png": "[encoded data removed]"
          },
          "metadata": {}
        }
      ]
    },
    {
      "cell_type": "markdown",
      "source": [
        "Фильтрация для тестовой и обучающей выборки:"
      ],
      "metadata": {
        "id": "27FDxqLGpH4x"
      }
    },
    {
      "cell_type": "code",
      "source": [
        "# Фильтрация outliers (мягко, >256)\n",
        "df_train = df_train[df_train['text_len'] <= 100]  # По словам, не токенам\n",
        "df_train = df_train.sample(frac=1, random_state=seed).reset_index(drop=True)\n",
        "print(f\"\\nПосле фильтра outliers: train={df_train.shape}\")\n",
        "\n",
        "# Аналогично для test\n",
        "token_lens_test = get_token_lens(df_test['text_clean'], tokenizer)\n",
        "df_test = df_test[df_test['text_len'] <= 100]\n",
        "df_test = df_test.sample(frac=1, random_state=seed).reset_index(drop=True)\n",
        "print(f\"После фильтра outliers: test={df_test.shape}\")"
      ],
      "metadata": {
        "colab": {
          "base_uri": "https://localhost:8080/"
        },
        "id": "6s46CIrApIFX",
        "outputId": "72d52369-a754-42d2-f1ae-53e3d4bd42c0"
      },
      "execution_count": null,
      "outputs": [
        {
          "output_type": "stream",
          "name": "stdout",
          "text": [
            "\n",
            "После фильтра outliers: train=(1622, 4)\n",
            "Outliers (>128 токенов): [(0, 'ученые университета неймегена и университета твенте в нидерландах раскрыли, что сложная внутреклеточ', 512), (1, 'стюардесса британских авиалиний лаура рейнольдс (laura reynolds) раскрыла преимущество длительных ре', 349), (2, 'дешевле всего жилье в москве можно снять в молжаниновском районе. его назвали самым доступным для ар', 286)]\n",
            "После фильтра outliers: test=(424, 4)\n"
          ]
        }
      ]
    },
    {
      "cell_type": "markdown",
      "source": [
        "Выполним **Oversampling** (балансировка):"
      ],
      "metadata": {
        "id": "_6rmPH0ApLCu"
      }
    },
    {
      "cell_type": "code",
      "source": [
        "ros = RandomOverSampler(random_state=seed)\n",
        "train_x, train_y = ros.fit_resample(df_train[['text_clean']], df_train['labels'])\n",
        "train_os = pd.DataFrame({'text_clean': train_x['text_clean'], 'labels': train_y.values})\n",
        "\n",
        "print(\"\\nРаспределение после oversampling:\")\n",
        "print(train_os['labels'].value_counts().sort_index())\n",
        "plot_class_distribution(train_os, selected_label_names, \"Распределение классов (train, после oversampling)\")"
      ],
      "metadata": {
        "colab": {
          "base_uri": "https://localhost:8080/",
          "height": 663
        },
        "id": "Q9mnAvJmpLRF",
        "outputId": "4209eabf-1be4-42cf-d666-bc0435ad989c"
      },
      "execution_count": null,
      "outputs": [
        {
          "output_type": "stream",
          "name": "stdout",
          "text": [
            "\n",
            "Распределение после oversampling:\n",
            "labels\n",
            "5     541\n",
            "7     541\n",
            "8     541\n",
            "9     541\n",
            "10    541\n",
            "Name: count, dtype: int64\n"
          ]
        },
        {
          "output_type": "display_data",
          "data": {
            "text/plain": [
              "<Figure size 800x500 with 1 Axes>"
            ],
            "image/png": "[encoded data removed]"
          },
          "metadata": {}
        }
      ]
    },
    {
      "cell_type": "markdown",
      "source": [
        "Выполним ремэппинг меток с проверкой:"
      ],
      "metadata": {
        "id": "eXbfq5x5pOW9"
      }
    },
    {
      "cell_type": "code",
      "source": [
        "label_map = {5: 0, 7: 1, 8: 2, 9: 3, 10: 4}\n",
        "train_os['new_label'] = train_os['labels'].map(label_map)\n",
        "df_train['new_label'] = df_train['labels'].map(label_map)\n",
        "df_test['new_label'] = df_test['labels'].map(label_map)\n",
        "\n",
        "# Проверка remapping\n",
        "print(\"\\nПроверка remapping:\")\n",
        "print(\"Уникальные 'labels' в train_os:\", sorted(train_os['labels'].unique()))\n",
        "print(\"Уникальные 'new_label' в train_os:\", sorted(train_os['new_label'].unique()))\n",
        "print(\"NaN в new_label train_os:\", train_os['new_label'].isna().sum())\n",
        "if train_os['new_label'].isna().sum() > 0:\n",
        "    print(\"Внимание: Есть NaN в new_label — проверьте индексы классов!\")\n",
        "    train_os = train_os.dropna(subset=['new_label'])\n",
        "    print(f\"После dropna: {len(train_os)} строк\")"
      ],
      "metadata": {
        "colab": {
          "base_uri": "https://localhost:8080/"
        },
        "id": "ghEynZHzpOf6",
        "outputId": "fec05d2c-7fe4-4f66-da1f-3928b96d7e7c"
      },
      "execution_count": null,
      "outputs": [
        {
          "output_type": "stream",
          "name": "stdout",
          "text": [
            "\n",
            "Проверка remapping:\n",
            "Уникальные 'labels' в train_os: [np.int64(5), np.int64(7), np.int64(8), np.int64(9), np.int64(10)]\n",
            "Уникальные 'new_label' в train_os: [np.int64(0), np.int64(1), np.int64(2), np.int64(3), np.int64(4)]\n",
            "NaN в new_label train_os: 0\n"
          ]
        }
      ]
    },
    {
      "cell_type": "markdown",
      "source": [
        "Разделение на train/valid:"
      ],
      "metadata": {
        "id": "nYKZYmxJpO5H"
      }
    },
    {
      "cell_type": "code",
      "source": [
        "X = train_os['text_clean'].values\n",
        "y = train_os['new_label'].values\n",
        "X_train, X_valid, y_train, y_valid = train_test_split(X, y, test_size=0.1, stratify=y, random_state=seed)\n",
        "X_test = df_test['text_clean'].values\n",
        "y_test = df_test['new_label'].values\n",
        "print(f\"\\nTrain/Valid/Test: {len(X_train)}/{len(X_valid)}/{len(X_test)}\")\n",
        "\n",
        "print(\"Уникальные y_train:\", sorted(np.unique(y_train)))\n",
        "print(\"Уникальные y_test:\", sorted(np.unique(y_test)))"
      ],
      "metadata": {
        "colab": {
          "base_uri": "https://localhost:8080/"
        },
        "id": "Jmjm2bvMpPN_",
        "outputId": "b73cdcad-6ef8-48c1-a8f1-7cbc8047d8b0"
      },
      "execution_count": null,
      "outputs": [
        {
          "output_type": "stream",
          "name": "stdout",
          "text": [
            "\n",
            "Train/Valid/Test: 2434/271/424\n",
            "Уникальные y_train: [np.int64(0), np.int64(1), np.int64(2), np.int64(3), np.int64(4)]\n",
            "Уникальные y_test: [np.int64(0), np.int64(1), np.int64(2), np.int64(3), np.int64(4)]\n"
          ]
        }
      ]
    },
    {
      "cell_type": "markdown",
      "source": [
        "Применим **One-Hot Encoding**:"
      ],
      "metadata": {
        "id": "CwMq4PmWpQ0n"
      }
    },
    {
      "cell_type": "code",
      "source": [
        "ohe = preprocessing.OneHotEncoder(sparse_output=False)\n",
        "y_train_ohe = ohe.fit_transform(y_train.reshape(-1, 1))\n",
        "y_valid_ohe = ohe.transform(y_valid.reshape(-1, 1))\n",
        "y_test_ohe = ohe.transform(y_test.reshape(-1, 1))"
      ],
      "metadata": {
        "id": "o0yra5dbpQ88"
      },
      "execution_count": null,
      "outputs": []
    },
    {
      "cell_type": "markdown",
      "source": [
        "Этот код загружает предобученную модель `TFRobertaModel` с названием `model_name`, конвертируя её из PyTorch формата в TensorFlow с помощью `from_pt=True`, и определяет функцию `tokenize`, которая преобразует входные тексты в списки идентификаторов токенов (`input_ids`) и масок внимания (`attention_masks`) с использованием токенизатора, применяя максимальную длину 128, паддинг и усечение. Затем функция применяется к тренировочным (`X_train`), валидационным (`X_valid`) и тестовым (`X_test`) наборам данных, создавая соответствующие пары массивов `input_ids` и `attention_masks` для последующего использования в модели:"
      ],
      "metadata": {
        "id": "6Qg8AYpQpTOx"
      }
    },
    {
      "cell_type": "code",
      "source": [
        "roberta_model = TFRobertaModel.from_pretrained(model_name, from_pt=True)\n",
        "\n",
        "def tokenize(data, max_len=128):\n",
        "    input_ids = []\n",
        "    attention_masks = []\n",
        "    for text in data:\n",
        "        encoded = tokenizer.encode_plus(\n",
        "            text,\n",
        "            add_special_tokens=True,\n",
        "            max_length=max_len,\n",
        "            padding='max_length',\n",
        "            truncation=True,\n",
        "            return_attention_mask=True\n",
        "        )\n",
        "        input_ids.append(encoded['input_ids'])\n",
        "        attention_masks.append(encoded['attention_mask'])\n",
        "    return np.array(input_ids), np.array(attention_masks)\n",
        "\n",
        "train_input_ids, train_attention_masks = tokenize(X_train, max_len=128)\n",
        "valid_input_ids, valid_attention_masks = tokenize(X_valid, max_len=128)\n",
        "test_input_ids, test_attention_masks = tokenize(X_test, max_len=128)"
      ],
      "metadata": {
        "colab": {
          "base_uri": "https://localhost:8080/",
          "height": 173,
          "referenced_widgets": [
            "2b8fbd099a604db2b61f5daf94e53e09",
            "913b66c30fdf4937a2d028a8b8e770e0",
            "aa9804392b3c47b3bdad509e808ea9fd",
            "4a2e68abeea148df820ec7c36fd24e78",
            "3a182dc6ad1745f392abb3f755ce7da4",
            "961a0a0684d8423b821bd4610bd03765",
            "2711af35c5804655acee2fc70f10adc2",
            "cb51b8020b7a4f95a4b2a5ea3214650c",
            "446beb24b68a4636b03b426c58ca6277",
            "d0461c31c1424310b1a908ec9a2a3968",
            "cac336d0036b4163b71ec4efab83ada6"
          ]
        },
        "id": "YM4Lf_vEpTav",
        "outputId": "954c3f76-9d29-4840-8cca-359a2d82710f"
      },
      "execution_count": null,
      "outputs": [
        {
          "output_type": "display_data",
          "data": {
            "text/plain": [
              "pytorch_model.bin:   0%|          | 0.00/1.42G [00:00<?, ?B/s]"
            ],
            "application/vnd.jupyter.widget-view+json": {
              "version_major": 2,
              "version_minor": 0,
              "model_id": "2b8fbd099a604db2b61f5daf94e53e09"
            }
          },
          "metadata": {}
        },
        {
          "output_type": "stream",
          "name": "stderr",
          "text": [
            "TensorFlow and JAX classes are deprecated and will be removed in Transformers v5. We recommend migrating to PyTorch classes or pinning your version of Transformers.\n",
            "Some weights of the PyTorch model were not used when initializing the TF 2.0 model TFRobertaModel: ['lm_head.dense.bias', 'lm_head.decoder.weight', 'lm_head.layer_norm.bias', 'roberta.embeddings.position_ids', 'lm_head.layer_norm.weight', 'lm_head.dense.weight', 'lm_head.bias', 'lm_head.decoder.bias']\n",
            "- This IS expected if you are initializing TFRobertaModel from a PyTorch model trained on another task or with another architecture (e.g. initializing a TFBertForSequenceClassification model from a BertForPreTraining model).\n",
            "- This IS NOT expected if you are initializing TFRobertaModel from a PyTorch model that you expect to be exactly identical (e.g. initializing a TFBertForSequenceClassification model from a BertForSequenceClassification model).\n",
            "Some weights or buffers of the TF 2.0 model TFRobertaModel were not initialized from the PyTorch model and are newly initialized: ['roberta.pooler.dense.weight', 'roberta.pooler.dense.bias']\n",
            "You should probably TRAIN this model on a down-stream task to be able to use it for predictions and inference.\n"
          ]
        }
      ]
    },
    {
      "cell_type": "markdown",
      "source": [
        "Создадим функцию по созданию модели, в которой опишем ее архитектуру. Также выведем подробную статистику о созданной модели:"
      ],
      "metadata": {
        "id": "o8WYqqOdpVWo"
      }
    },
    {
      "cell_type": "code",
      "source": [
        "def create_model(roberta_model, max_len=128):\n",
        "    opt = tf.keras.optimizers.legacy.Adam(learning_rate=2e-5, decay=1e-6)\n",
        "    loss = tf.keras.losses.CategoricalCrossentropy()\n",
        "    accuracy = tf.keras.metrics.CategoricalAccuracy()\n",
        "    input_ids = tf.keras.Input(shape=(max_len,), dtype='int32')\n",
        "    attention_masks = tf.keras.Input(shape=(max_len,), dtype='int32')\n",
        "    output = roberta_model([input_ids, attention_masks])[1]\n",
        "    output = tf.keras.layers.Dropout(0.1)(output)\n",
        "    output = tf.keras.layers.Dense(num_classes, activation='softmax')(output)\n",
        "    model = tf.keras.models.Model(inputs=[input_ids, attention_masks], outputs=output)\n",
        "    model.compile(opt, loss=loss, metrics=[accuracy])\n",
        "    return model\n",
        "\n",
        "model = create_model(roberta_model, max_len=128)\n",
        "model.summary()"
      ],
      "metadata": {
        "colab": {
          "base_uri": "https://localhost:8080/"
        },
        "id": "REH9IbLEpVlt",
        "outputId": "fe799e30-af56-4a33-8fdd-fb10d26bcd43"
      },
      "execution_count": null,
      "outputs": [
        {
          "output_type": "stream",
          "name": "stdout",
          "text": [
            "Model: \"model\"\n",
            "__________________________________________________________________________________________________\n",
            " Layer (type)                Output Shape                 Param #   Connected to                  \n",
            "==================================================================================================\n",
            " input_1 (InputLayer)        [(None, 128)]                0         []                            \n",
            "                                                                                                  \n",
            " input_2 (InputLayer)        [(None, 128)]                0         []                            \n",
            "                                                                                                  \n",
            " tf_roberta_model (TFRobert  TFBaseModelOutputWithPooli   3553597   ['input_1[0][0]',             \n",
            " aModel)                     ngAndCrossAttentions(last_   44         'input_2[0][0]']             \n",
            "                             hidden_state=(None, 128, 1                                           \n",
            "                             024),                                                                \n",
            "                              pooler_output=(None, 1024                                           \n",
            "                             ),                                                                   \n",
            "                              past_key_values=None, hid                                           \n",
            "                             den_states=None, attention                                           \n",
            "                             s=None, cross_attentions=N                                           \n",
            "                             one)                                                                 \n",
            "                                                                                                  \n",
            " dropout_73 (Dropout)        (None, 1024)                 0         ['tf_roberta_model[0][1]']    \n",
            "                                                                                                  \n",
            " dense (Dense)               (None, 5)                    5125      ['dropout_73[0][0]']          \n",
            "                                                                                                  \n",
            "==================================================================================================\n",
            "Total params: 355364869 (1.32 GB)\n",
            "Trainable params: 355364869 (1.32 GB)\n",
            "Non-trainable params: 0 (0.00 Byte)\n",
            "__________________________________________________________________________________________________\n"
          ]
        }
      ]
    },
    {
      "cell_type": "markdown",
      "source": [
        "Выполним обучение модели:"
      ],
      "metadata": {
        "id": "UsHJY34IpX7f"
      }
    },
    {
      "cell_type": "code",
      "source": [
        "history = model.fit(\n",
        "    [train_input_ids, train_attention_masks], y_train_ohe,\n",
        "    validation_data=([valid_input_ids, valid_attention_masks], y_valid_ohe),\n",
        "    epochs=4,\n",
        "    batch_size=16,\n",
        ")"
      ],
      "metadata": {
        "colab": {
          "base_uri": "https://localhost:8080/"
        },
        "id": "ASZnZy7FpYEU",
        "outputId": "89698bd8-8a4b-431c-b909-ab470c7b9fc8"
      },
      "execution_count": null,
      "outputs": [
        {
          "output_type": "stream",
          "name": "stdout",
          "text": [
            "Epoch 1/4\n",
            "153/153 [==============================] - 241s 1s/step - loss: 0.4692 - categorical_accuracy: 0.8246 - val_loss: 0.0854 - val_categorical_accuracy: 0.9779\n",
            "Epoch 2/4\n",
            "153/153 [==============================] - 210s 1s/step - loss: 0.0589 - categorical_accuracy: 0.9848 - val_loss: 0.0288 - val_categorical_accuracy: 0.9926\n",
            "Epoch 3/4\n",
            "153/153 [==============================] - 207s 1s/step - loss: 0.0330 - categorical_accuracy: 0.9910 - val_loss: 0.0499 - val_categorical_accuracy: 0.9926\n",
            "Epoch 4/4\n",
            "153/153 [==============================] - 210s 1s/step - loss: 0.0159 - categorical_accuracy: 0.9959 - val_loss: 0.0632 - val_categorical_accuracy: 0.9889\n"
          ]
        }
      ]
    },
    {
      "cell_type": "markdown",
      "source": [
        "График обучения:"
      ],
      "metadata": {
        "id": "X5-I86sKpgTh"
      }
    },
    {
      "cell_type": "code",
      "source": [
        "plt.figure(figsize=(12, 4))\n",
        "plt.subplot(1, 2, 1)\n",
        "plt.plot(history.history['loss'], label='Train Loss')\n",
        "plt.plot(history.history['val_loss'], label='Val Loss')\n",
        "plt.title('Loss per Epoch')\n",
        "plt.xlabel('Epoch')\n",
        "plt.ylabel('Loss')\n",
        "plt.legend()\n",
        "plt.subplot(1, 2, 2)\n",
        "plt.plot(history.history['categorical_accuracy'], label='Train Acc')\n",
        "plt.plot(history.history['val_categorical_accuracy'], label='Val Acc')\n",
        "plt.title('Accuracy per Epoch')\n",
        "plt.xlabel('Epoch')\n",
        "plt.ylabel('Accuracy')\n",
        "plt.legend()\n",
        "plt.tight_layout()\n",
        "plt.show()"
      ],
      "metadata": {
        "id": "cRUaQ58cpgek",
        "colab": {
          "base_uri": "https://localhost:8080/",
          "height": 407
        },
        "outputId": "7c79f7ce-de22-4f05-f598-2b8079410bdd"
      },
      "execution_count": null,
      "outputs": [
        {
          "output_type": "display_data",
          "data": {
            "text/plain": [
              "<Figure size 1200x400 with 2 Axes>"
            ],
            "image/png": "[encoded data removed]"
          },
          "metadata": {}
        }
      ]
    },
    {
      "cell_type": "markdown",
      "source": [
        "Выполним предсказания и выведем метрики:"
      ],
      "metadata": {
        "id": "zDKYnNiJpilJ"
      }
    },
    {
      "cell_type": "code",
      "source": [
        "# Предсказания\n",
        "result = model.predict([test_input_ids, test_attention_masks])\n",
        "y_pred = np.argmax(result, axis=1)\n",
        "\n",
        "# Метрики\n",
        "print('\\nРасчет метрик для ruRoberta-large:')\n",
        "print(classification_report(y_test, y_pred, target_names=selected_label_names))"
      ],
      "metadata": {
        "id": "bOdF8L9lpi_M",
        "colab": {
          "base_uri": "https://localhost:8080/"
        },
        "outputId": "d8cb0da6-aa92-47c6-fcb7-405d020c37c0"
      },
      "execution_count": null,
      "outputs": [
        {
          "output_type": "stream",
          "name": "stdout",
          "text": [
            "14/14 [==============================] - 17s 806ms/step\n",
            "\n",
            "Расчет метрик для ruRoberta-large:\n",
            "              precision    recall  f1-score   support\n",
            "\n",
            "      health       0.95      0.88      0.91        24\n",
            "     science       0.95      0.97      0.96        90\n",
            "     society       0.88      0.88      0.88        75\n",
            "      sports       0.98      1.00      0.99       153\n",
            "      travel       0.97      0.94      0.96        82\n",
            "\n",
            "    accuracy                           0.95       424\n",
            "   macro avg       0.95      0.93      0.94       424\n",
            "weighted avg       0.95      0.95      0.95       424\n",
            "\n"
          ]
        }
      ]
    },
    {
      "cell_type": "markdown",
      "source": [
        "Воспользуемся функцией создания матрицы ошибок:"
      ],
      "metadata": {
        "id": "tJh_Qkb6pln9"
      }
    },
    {
      "cell_type": "code",
      "source": [
        "conf_matrix(y_test, y_pred, 'Матрица ошибок для ruRoberta-large', selected_label_names)"
      ],
      "metadata": {
        "id": "xMhh7-Fupl1X",
        "colab": {
          "base_uri": "https://localhost:8080/",
          "height": 607
        },
        "outputId": "74ba4c4c-4b9a-4a00-9ef2-d3d86a45208e"
      },
      "execution_count": null,
      "outputs": [
        {
          "output_type": "display_data",
          "data": {
            "text/plain": [
              "<Figure size 800x600 with 1 Axes>"
            ],
            "image/png": "[encoded data removed]"
          },
          "metadata": {}
        }
      ]
    },
    {
      "cell_type": "markdown",
      "source": [
        "Выведем 5 примеров предсказаний:"
      ],
      "metadata": {
        "id": "kxXxtnTApnt-"
      }
    },
    {
      "cell_type": "code",
      "source": [
        "print(\"\\n5 примеров предсказаний на тестовой выборке:\")\n",
        "for i in range(min(5, len(X_test))):\n",
        "    orig_text = df_test['news'].iloc[i]\n",
        "    clean_text = X_test[i]\n",
        "    true_label = selected_label_names[y_test[i]]\n",
        "    pred_label = selected_label_names[y_pred[i]]\n",
        "    confidence = np.max(result[i])\n",
        "    print(f\"Пример {i+1}:\")\n",
        "    print(f\"Оригинальный текст: {orig_text[:200]}...\")\n",
        "    print(f\"Очищенный текст: {clean_text[:200]}...\")\n",
        "    print(f\"Истинный класс: {true_label}\")\n",
        "    print(f\"Предсказанный класс: {pred_label} (уверенность: {confidence:.2f})\")\n",
        "    print(f\"Вероятности: {dict(zip(selected_label_names, result[i]))}\")\n",
        "    print(\"---\")"
      ],
      "metadata": {
        "id": "hCS8Q9UApn4u",
        "colab": {
          "base_uri": "https://localhost:8080/"
        },
        "outputId": "8d1bd10a-7cb2-439d-a310-0331cf72e519"
      },
      "execution_count": null,
      "outputs": [
        {
          "output_type": "stream",
          "name": "stdout",
          "text": [
            "\n",
            "5 примеров предсказаний на тестовой выборке:\n",
            "Пример 1:\n",
            "Оригинальный текст: В сети появилось видео лучших моментов турнира Абсолютного бойцовского чемпионата (UFC) в Лас-Вегасе. Ролик представлен на YouTube-канале UFC Russia. В главном поединке ивента Фрэнсис Нганну лишил тит...\n",
            "Очищенный текст: в сети появилось видео лучших моментов турнира абсолютного бойцовского чемпионата (ufc) в лас-вегасе. ролик представлен на youtube-канале ufc russia. в главном поединке ивента фрэнсис нганну лишил тит...\n",
            "Истинный класс: sports\n",
            "Предсказанный класс: sports (уверенность: 1.00)\n",
            "Вероятности: {'health': np.float32(8.692587e-06), 'science': np.float32(2.3682258e-05), 'society': np.float32(4.143973e-05), 'sports': np.float32(0.9999199), 'travel': np.float32(6.1920123e-06)}\n",
            "---\n",
            "Пример 2:\n",
            "Оригинальный текст: Россиянка Мирра Андреева разгромила туниску Онс Жабер и вышла в третий круг Australian Open. Об этом сообщает корреспондент «Ленты.ру».Встреча завершилась в двух сетах со счетом 6:0, 6:2. Спортсменки ...\n",
            "Очищенный текст: россиянка мирра андреева разгромила туниску онс жабер и вышла в третий круг australian open. об этом сообщает корреспондент «ленты.ру».встреча завершилась в двух сетах со счетом 6:0, 6:2. спортсменки ...\n",
            "Истинный класс: sports\n",
            "Предсказанный класс: sports (уверенность: 1.00)\n",
            "Вероятности: {'health': np.float32(1.7359309e-05), 'science': np.float32(1.3289728e-05), 'society': np.float32(1.06255675e-05), 'sports': np.float32(0.9999411), 'travel': np.float32(1.7606666e-05)}\n",
            "---\n",
            "Пример 3:\n",
            "Оригинальный текст: Американская космическая компания SpaceX в ночь на 6 ноября осуществила успешный запуск ракеты-носителя Falcon 9 со спутником навигационной системы GPS. Трансляция миссии велась на YouTube-канале Spac...\n",
            "Очищенный текст: американская космическая компания spacex в ночь на 6 ноября осуществила успешный запуск ракеты-носителя falcon 9 со спутником навигационной системы gps. трансляция миссии велась на youtube-канале spac...\n",
            "Истинный класс: science\n",
            "Предсказанный класс: science (уверенность: 1.00)\n",
            "Вероятности: {'health': np.float32(4.0023797e-06), 'science': np.float32(0.9999331), 'society': np.float32(3.6801302e-05), 'sports': np.float32(1.1442164e-05), 'travel': np.float32(1.4539555e-05)}\n",
            "---\n",
            "Пример 4:\n",
            "Оригинальный текст: 2020 год оказался самым сложным для России с 1991 года и самым тяжелым для личного и семейного благополучия с 1998 года. Об этом свидетельствуют данные опроса \"Левада-центра\"...\n",
            "Очищенный текст: 2020 год оказался самым сложным для россии с 1991 года и самым тяжелым для личного и семейного благополучия с 1998 года. об этом свидетельствуют данные опроса \"левада-центра\"...\n",
            "Истинный класс: society\n",
            "Предсказанный класс: society (уверенность: 1.00)\n",
            "Вероятности: {'health': np.float32(3.275253e-05), 'science': np.float32(0.00056737853), 'society': np.float32(0.99920887), 'sports': np.float32(0.00010133182), 'travel': np.float32(8.9699795e-05)}\n",
            "---\n",
            "Пример 5:\n",
            "Оригинальный текст: Новый российский лабораторный модуль \"Наука\" планируется запустить на орбиту в апреле 2021 года, а следующее \"окно\" для его отправки к МКС откроется в июле. Об этом рассказал источник РИА \"Новости\" в ...\n",
            "Очищенный текст: новый российский лабораторный модуль \"наука\" планируется запустить на орбиту в апреле 2021 года, а следующее \"окно\" для его отправки к мкс откроется в июле. об этом рассказал источник риа \"новости\" в ...\n",
            "Истинный класс: science\n",
            "Предсказанный класс: science (уверенность: 1.00)\n",
            "Вероятности: {'health': np.float32(2.2894992e-06), 'science': np.float32(0.99996316), 'society': np.float32(1.8738448e-05), 'sports': np.float32(7.77358e-06), 'travel': np.float32(8.116205e-06)}\n",
            "---\n"
          ]
        }
      ]
    }
  ]
}
